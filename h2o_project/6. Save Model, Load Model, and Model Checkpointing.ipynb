{
 "cells": [
  {
   "cell_type": "markdown",
   "metadata": {},
   "source": [
    "## All Imports for the script"
   ]
  },
  {
   "cell_type": "code",
   "execution_count": 1,
   "metadata": {},
   "outputs": [],
   "source": [
    "import h2o\n",
    "from h2o.grid.grid_search import H2OGridSearch\n",
    "from h2o.estimators.glm import H2OGeneralizedLinearEstimator\n",
    "from h2o.estimators.gbm import H2OGradientBoostingEstimator\n",
    "from h2o.estimators.deeplearning import H2ODeepLearningEstimator\n",
    "from h2o.estimators.stackedensemble import H2OStackedEnsembleEstimator\n",
    "import warnings\n",
    "warnings.filterwarnings('ignore')\n",
    "import json\n",
    "\n",
    "import matplotlib.pyplot as plt\n",
    "%matplotlib inline \n",
    "import pandas as pd"
   ]
  },
  {
   "cell_type": "code",
   "execution_count": 2,
   "metadata": {},
   "outputs": [],
   "source": [
    "# CONSTANT DECLARATIONS\n",
    "AIRLINE_DATA_PATH = \"C://repository/h2o_project/h2o_data/allyears2k.csv\""
   ]
  },
  {
   "cell_type": "markdown",
   "metadata": {},
   "source": [
    "## Initiating h2o instance"
   ]
  },
  {
   "cell_type": "code",
   "execution_count": 3,
   "metadata": {},
   "outputs": [
    {
     "name": "stdout",
     "output_type": "stream",
     "text": [
      "Checking whether there is an H2O instance running at http://localhost:54321 . connected.\n"
     ]
    },
    {
     "data": {
      "text/html": [
       "<div style=\"overflow:auto\"><table style=\"width:50%\"><tr><td>H2O cluster uptime:</td>\n",
       "<td>7 hours 2 mins</td></tr>\n",
       "<tr><td>H2O cluster timezone:</td>\n",
       "<td>America/Denver</td></tr>\n",
       "<tr><td>H2O data parsing timezone:</td>\n",
       "<td>UTC</td></tr>\n",
       "<tr><td>H2O cluster version:</td>\n",
       "<td>3.24.0.1</td></tr>\n",
       "<tr><td>H2O cluster version age:</td>\n",
       "<td>13 days </td></tr>\n",
       "<tr><td>H2O cluster name:</td>\n",
       "<td>H2O_from_python_retim_d8mvtq</td></tr>\n",
       "<tr><td>H2O cluster total nodes:</td>\n",
       "<td>1</td></tr>\n",
       "<tr><td>H2O cluster free memory:</td>\n",
       "<td>45.59 Mb</td></tr>\n",
       "<tr><td>H2O cluster total cores:</td>\n",
       "<td>6</td></tr>\n",
       "<tr><td>H2O cluster allowed cores:</td>\n",
       "<td>6</td></tr>\n",
       "<tr><td>H2O cluster status:</td>\n",
       "<td>locked, healthy</td></tr>\n",
       "<tr><td>H2O connection url:</td>\n",
       "<td>http://localhost:54321</td></tr>\n",
       "<tr><td>H2O connection proxy:</td>\n",
       "<td>None</td></tr>\n",
       "<tr><td>H2O internal security:</td>\n",
       "<td>False</td></tr>\n",
       "<tr><td>H2O API Extensions:</td>\n",
       "<td>Amazon S3, Algos, AutoML, Core V3, Core V4</td></tr>\n",
       "<tr><td>Python version:</td>\n",
       "<td>3.7.1 final</td></tr></table></div>"
      ],
      "text/plain": [
       "--------------------------  ------------------------------------------\n",
       "H2O cluster uptime:         7 hours 2 mins\n",
       "H2O cluster timezone:       America/Denver\n",
       "H2O data parsing timezone:  UTC\n",
       "H2O cluster version:        3.24.0.1\n",
       "H2O cluster version age:    13 days\n",
       "H2O cluster name:           H2O_from_python_retim_d8mvtq\n",
       "H2O cluster total nodes:    1\n",
       "H2O cluster free memory:    45.59 Mb\n",
       "H2O cluster total cores:    6\n",
       "H2O cluster allowed cores:  6\n",
       "H2O cluster status:         locked, healthy\n",
       "H2O connection url:         http://localhost:54321\n",
       "H2O connection proxy:\n",
       "H2O internal security:      False\n",
       "H2O API Extensions:         Amazon S3, Algos, AutoML, Core V3, Core V4\n",
       "Python version:             3.7.1 final\n",
       "--------------------------  ------------------------------------------"
      ]
     },
     "metadata": {},
     "output_type": "display_data"
    }
   ],
   "source": [
    "h2o.init()"
   ]
  },
  {
   "cell_type": "markdown",
   "metadata": {},
   "source": [
    "##  Import the Airlines dataset"
   ]
  },
  {
   "cell_type": "code",
   "execution_count": 4,
   "metadata": {},
   "outputs": [
    {
     "name": "stdout",
     "output_type": "stream",
     "text": [
      "Parse progress: |█████████████████████████████████████████████████████████| 100%\n"
     ]
    }
   ],
   "source": [
    "airline_df = h2o.import_file(AIRLINE_DATA_PATH)"
   ]
  },
  {
   "cell_type": "markdown",
   "metadata": {},
   "source": [
    "## Variable description"
   ]
  },
  {
   "cell_type": "code",
   "execution_count": 5,
   "metadata": {},
   "outputs": [],
   "source": [
    "cat_features = [\"Month\", \"DayofMonth\", \"DayOfWeek\"]\n",
    "target = \"IsDepDelayed\"\n",
    "\n",
    "airline_df[target] = airline_df[target].asfactor()\n",
    "for x in cat_features:\n",
    "    airline_df[x] = airline_df[x].asfactor()\n",
    "\n",
    "predictors = cat_features+ [ \"UniqueCarrier\", \"Distance\", \"Dest\"]"
   ]
  },
  {
   "cell_type": "markdown",
   "metadata": {},
   "source": [
    "## Split the data set into a train (80%) and test set (20%)"
   ]
  },
  {
   "cell_type": "code",
   "execution_count": 6,
   "metadata": {},
   "outputs": [],
   "source": [
    "train, valid = airline_df.split_frame(ratios = [.80,], seed = 1234)"
   ]
  },
  {
   "cell_type": "markdown",
   "metadata": {},
   "source": [
    "## 1. Train a GBM with following parameters"
   ]
  },
  {
   "cell_type": "code",
   "execution_count": 7,
   "metadata": {},
   "outputs": [
    {
     "name": "stdout",
     "output_type": "stream",
     "text": [
      "gbm Model Build progress: |███████████████████████████████████████████████| 100%\n"
     ]
    }
   ],
   "source": [
    "# Train and validate a cartesian grid of GBMs\n",
    "# 1,000 trees (specified; actual might be less because of early stopping)\n",
    "# 3 stopping rounds\n",
    "# 0.01 stopping tolerance\n",
    "# Logloss stopping metric\n",
    "# Model ID of gbm_model\n",
    "\n",
    "gbm_model = H2OGradientBoostingEstimator(model_id = \"gbm_model\",\n",
    "                                        ntrees = 1000,\n",
    "                                        stopping_rounds = 3,\n",
    "                                        stopping_tolerance = 0.01,\n",
    "                                        stopping_metric = \"logloss\",\n",
    "                                        seed = 1234)\n",
    "\n",
    "gbm_model.train(x = predictors, \n",
    "                y = target,\n",
    "                training_frame = train,\n",
    "                validation_frame = valid\n",
    "                )"
   ]
  },
  {
   "cell_type": "code",
   "execution_count": 39,
   "metadata": {},
   "outputs": [
    {
     "data": {
      "text/plain": [
       "0.683222499840106"
      ]
     },
     "execution_count": 39,
     "metadata": {},
     "output_type": "execute_result"
    }
   ],
   "source": [
    "gbm_model.auc(valid = True)"
   ]
  },
  {
   "cell_type": "code",
   "execution_count": 22,
   "metadata": {},
   "outputs": [
    {
     "name": "stdout",
     "output_type": "stream",
     "text": [
      "number of trees on gbm model: 12.0\n"
     ]
    }
   ],
   "source": [
    "#number of trees to build the model with early stopping\n",
    "print(\"number of trees on gbm model: {}\".format( gbm_model.score_history().iloc[-1]['number_of_trees']))"
   ]
  },
  {
   "cell_type": "markdown",
   "metadata": {},
   "source": [
    "## 2. Plot scoring history of the logloss"
   ]
  },
  {
   "cell_type": "code",
   "execution_count": 23,
   "metadata": {},
   "outputs": [
    {
     "name": "stdout",
     "output_type": "stream",
     "text": [
      "Index(['', 'timestamp', 'duration', 'number_of_trees', 'training_rmse',\n",
      "       'training_logloss', 'training_auc', 'training_pr_auc', 'training_lift',\n",
      "       'training_classification_error', 'validation_rmse',\n",
      "       'validation_logloss', 'validation_auc', 'validation_pr_auc',\n",
      "       'validation_lift', 'validation_classification_error'],\n",
      "      dtype='object')\n"
     ]
    }
   ],
   "source": [
    "score_history = gbm_model.score_history()\n",
    "score_history = pd.DataFrame(score_history)\n",
    "print(score_history.columns)"
   ]
  },
  {
   "cell_type": "code",
   "execution_count": 24,
   "metadata": {},
   "outputs": [
    {
     "data": {
      "image/png": "[encoded data removed]",
      "text/plain": [
       "<Figure size 720x360 with 1 Axes>"
      ]
     },
     "metadata": {
      "needs_background": "light"
     },
     "output_type": "display_data"
    }
   ],
   "source": [
    "score_history.plot(x='number_of_trees' ,y = ['training_auc', 'training_logloss'], figsize=(10,5))\n",
    "plt.show()"
   ]
  },
  {
   "cell_type": "markdown",
   "metadata": {},
   "source": [
    "### print the validation logloss of the model"
   ]
  },
  {
   "cell_type": "code",
   "execution_count": 25,
   "metadata": {},
   "outputs": [
    {
     "data": {
      "text/plain": [
       "0.6440864391779298"
      ]
     },
     "execution_count": 25,
     "metadata": {},
     "output_type": "execute_result"
    }
   ],
   "source": [
    "gbm_model.logloss(valid = True)"
   ]
  },
  {
   "cell_type": "markdown",
   "metadata": {},
   "source": [
    "### 3. Save the model"
   ]
  },
  {
   "cell_type": "code",
   "execution_count": 26,
   "metadata": {},
   "outputs": [],
   "source": [
    "model_path_gbm = h2o.save_model(model=gbm_model, path=\"c://repository/h2o_project/gbm_model\", force=True)"
   ]
  },
  {
   "cell_type": "code",
   "execution_count": 27,
   "metadata": {},
   "outputs": [
    {
     "data": {
      "text/plain": [
       "'c:\\\\repository\\\\h2o_project\\\\gbm_model\\\\gbm_model.java'"
      ]
     },
     "execution_count": 27,
     "metadata": {},
     "output_type": "execute_result"
    }
   ],
   "source": [
    "## saving POJO \n",
    "h2o.download_pojo(gbm_model, path = 'c://repository/h2o_project/gbm_model/', get_jar = True)"
   ]
  },
  {
   "cell_type": "code",
   "execution_count": 28,
   "metadata": {},
   "outputs": [
    {
     "name": "stdout",
     "output_type": "stream",
     "text": [
      "[WARNING] in <ipython-input-28-1edf85295eae> line 1:\n",
      "    >>> h2o.shutdown()\n",
      "        ^^^^ Deprecated, use ``h2o.cluster().shutdown()``.\n",
      "H2O session _sid_a526 closed.\n"
     ]
    }
   ],
   "source": [
    "h2o.shutdown()"
   ]
  },
  {
   "cell_type": "markdown",
   "metadata": {},
   "source": [
    "# B. Load Model, and Model Checkpointing"
   ]
  },
  {
   "cell_type": "code",
   "execution_count": 29,
   "metadata": {},
   "outputs": [
    {
     "name": "stdout",
     "output_type": "stream",
     "text": [
      "Checking whether there is an H2O instance running at http://localhost:54321 ..... not found.\n",
      "Attempting to start a local H2O server...\n",
      "; Java HotSpot(TM) Client VM (build 25.201-b09, mixed mode, sharing)\n",
      "  Starting server from c:\\programdata\\miniconda3\\lib\\site-packages\\h2o\\backend\\bin\\h2o.jar\n",
      "  Ice root: C:\\Users\\retim\\AppData\\Local\\Temp\\tmp4_pjjl8k\n",
      "  JVM stdout: C:\\Users\\retim\\AppData\\Local\\Temp\\tmp4_pjjl8k\\h2o_retim_started_from_python.out\n",
      "  JVM stderr: C:\\Users\\retim\\AppData\\Local\\Temp\\tmp4_pjjl8k\\h2o_retim_started_from_python.err\n",
      "  Server is running at http://127.0.0.1:54321\n",
      "Connecting to H2O server at http://127.0.0.1:54321 ... successful.\n"
     ]
    },
    {
     "data": {
      "text/html": [
       "<div style=\"overflow:auto\"><table style=\"width:50%\"><tr><td>H2O cluster uptime:</td>\n",
       "<td>01 secs</td></tr>\n",
       "<tr><td>H2O cluster timezone:</td>\n",
       "<td>America/Denver</td></tr>\n",
       "<tr><td>H2O data parsing timezone:</td>\n",
       "<td>UTC</td></tr>\n",
       "<tr><td>H2O cluster version:</td>\n",
       "<td>3.24.0.1</td></tr>\n",
       "<tr><td>H2O cluster version age:</td>\n",
       "<td>13 days </td></tr>\n",
       "<tr><td>H2O cluster name:</td>\n",
       "<td>H2O_from_python_retim_xsgxfw</td></tr>\n",
       "<tr><td>H2O cluster total nodes:</td>\n",
       "<td>1</td></tr>\n",
       "<tr><td>H2O cluster free memory:</td>\n",
       "<td>247.5 Mb</td></tr>\n",
       "<tr><td>H2O cluster total cores:</td>\n",
       "<td>6</td></tr>\n",
       "<tr><td>H2O cluster allowed cores:</td>\n",
       "<td>6</td></tr>\n",
       "<tr><td>H2O cluster status:</td>\n",
       "<td>accepting new members, healthy</td></tr>\n",
       "<tr><td>H2O connection url:</td>\n",
       "<td>http://127.0.0.1:54321</td></tr>\n",
       "<tr><td>H2O connection proxy:</td>\n",
       "<td>None</td></tr>\n",
       "<tr><td>H2O internal security:</td>\n",
       "<td>False</td></tr>\n",
       "<tr><td>H2O API Extensions:</td>\n",
       "<td>Amazon S3, Algos, AutoML, Core V3, Core V4</td></tr>\n",
       "<tr><td>Python version:</td>\n",
       "<td>3.7.1 final</td></tr></table></div>"
      ],
      "text/plain": [
       "--------------------------  ------------------------------------------\n",
       "H2O cluster uptime:         01 secs\n",
       "H2O cluster timezone:       America/Denver\n",
       "H2O data parsing timezone:  UTC\n",
       "H2O cluster version:        3.24.0.1\n",
       "H2O cluster version age:    13 days\n",
       "H2O cluster name:           H2O_from_python_retim_xsgxfw\n",
       "H2O cluster total nodes:    1\n",
       "H2O cluster free memory:    247.5 Mb\n",
       "H2O cluster total cores:    6\n",
       "H2O cluster allowed cores:  6\n",
       "H2O cluster status:         accepting new members, healthy\n",
       "H2O connection url:         http://127.0.0.1:54321\n",
       "H2O connection proxy:\n",
       "H2O internal security:      False\n",
       "H2O API Extensions:         Amazon S3, Algos, AutoML, Core V3, Core V4\n",
       "Python version:             3.7.1 final\n",
       "--------------------------  ------------------------------------------"
      ]
     },
     "metadata": {},
     "output_type": "display_data"
    }
   ],
   "source": [
    "h2o.init()"
   ]
  },
  {
   "cell_type": "markdown",
   "metadata": {},
   "source": [
    "## Variable declaration"
   ]
  },
  {
   "cell_type": "code",
   "execution_count": 30,
   "metadata": {},
   "outputs": [
    {
     "name": "stdout",
     "output_type": "stream",
     "text": [
      "Parse progress: |█████████████████████████████████████████████████████████| 100%\n"
     ]
    }
   ],
   "source": [
    "#import data\n",
    "airline_df = h2o.import_file(\"c://repository/h2o_project/h2o_data/allyears2k.csv\")\n",
    "\n",
    "# features data types\n",
    "cat_features = [\"Month\", \"DayofMonth\", \"DayOfWeek\"]\n",
    "target = \"IsDepDelayed\"\n",
    "\n",
    "airline_df[target] = airline_df[target].asfactor()\n",
    "for x in cat_features:\n",
    "    airline_df[x] = airline_df[x].asfactor()\n",
    "\n",
    "predictors = cat_features+ [ \"UniqueCarrier\", \"Distance\", \"Dest\"]\n",
    "\n",
    "#split the data after determining all the data types on predictor \n",
    "train, valid = airline_df.split_frame(ratios = [.80,], seed = 1234)"
   ]
  },
  {
   "cell_type": "markdown",
   "metadata": {},
   "source": [
    "## 4. Load the GBM model"
   ]
  },
  {
   "cell_type": "code",
   "execution_count": 31,
   "metadata": {},
   "outputs": [],
   "source": [
    "# load the model\n",
    "saved_model = h2o.load_model(\"c://repository/h2o_project/gbm_model/gbm_model\")"
   ]
  },
  {
   "cell_type": "markdown",
   "metadata": {},
   "source": [
    "###  extracts the number of trees from the GBM model"
   ]
  },
  {
   "cell_type": "code",
   "execution_count": 46,
   "metadata": {},
   "outputs": [
    {
     "data": {
      "text/plain": [
       "{'default': 50, 'actual': 1000}"
      ]
     },
     "execution_count": 46,
     "metadata": {},
     "output_type": "execute_result"
    }
   ],
   "source": [
    "saved_model.params['ntrees']"
   ]
  },
  {
   "cell_type": "markdown",
   "metadata": {},
   "source": [
    "Seems like this only hold default and passed but does not account for early stoppage, nevertheless can be found out differently"
   ]
  },
  {
   "cell_type": "code",
   "execution_count": 32,
   "metadata": {},
   "outputs": [
    {
     "data": {
      "text/plain": [
       "12.0"
      ]
     },
     "execution_count": 32,
     "metadata": {},
     "output_type": "execute_result"
    }
   ],
   "source": [
    "saved_model.score_history().iloc[-1].number_of_trees"
   ]
  },
  {
   "cell_type": "markdown",
   "metadata": {},
   "source": [
    "## Continue building model with checkpoint adding 100 trees"
   ]
  },
  {
   "cell_type": "code",
   "execution_count": 47,
   "metadata": {},
   "outputs": [],
   "source": [
    "# The following options cannot be modified when rebuilding a model using checkpoint:\n",
    "\n",
    "# GBM/DRF Options\n",
    "\n",
    "    # build_tree_one_node\n",
    "    # max_depth\n",
    "    # min_rows\n",
    "    # nbins\n",
    "    # nbins_cats\n",
    "    # nbins_top_level\n",
    "    # sample_rate"
   ]
  },
  {
   "cell_type": "code",
   "execution_count": 48,
   "metadata": {},
   "outputs": [
    {
     "name": "stdout",
     "output_type": "stream",
     "text": [
      "gbm Model Build progress: |███████████████████████████████████████████████| 100%\n"
     ]
    }
   ],
   "source": [
    "gbm_model_checkpoint = H2OGradientBoostingEstimator(model_id = 'gbm_model_checkpoint',\n",
    "                                                    checkpoint = saved_model.model_id,\n",
    "                                                    ntrees = (saved_model.params['ntrees']['actual'] + 100),\n",
    "                                                    seed = 1234)\n",
    "\n",
    "gbm_model_checkpoint.train(x = predictors, \n",
    "                y = target,\n",
    "                training_frame = train,\n",
    "                validation_frame = valid\n",
    "                )"
   ]
  },
  {
   "cell_type": "code",
   "execution_count": 56,
   "metadata": {},
   "outputs": [
    {
     "name": "stdout",
     "output_type": "stream",
     "text": [
      "auc saved model for training data: 0.710\n",
      "auc check point model for validation data: 0.712\n",
      "number of trees to build checkpoint model: 1100.0\n"
     ]
    }
   ],
   "source": [
    "print (\"auc saved model for training data: {:.3f}\".format(saved_model.auc()))\n",
    "print (\"auc check point model for validation data: {:.3f}\".format(gbm_model_checkpoint.auc(valid = True)))\n",
    "print(\"number of trees to build checkpoint model: {:}\".format(gbm_model_checkpoint.score_history().iloc[-1].number_of_trees))"
   ]
  },
  {
   "cell_type": "markdown",
   "metadata": {},
   "source": [
    "### 6. Plot the scoring history of the logloss and print the validation logloss of the model that started training with the checkpoint."
   ]
  },
  {
   "cell_type": "code",
   "execution_count": 57,
   "metadata": {},
   "outputs": [
    {
     "name": "stdout",
     "output_type": "stream",
     "text": [
      "Index(['', 'timestamp', 'duration', 'number_of_trees', 'training_rmse',\n",
      "       'training_logloss', 'training_auc', 'training_pr_auc', 'training_lift',\n",
      "       'training_classification_error', 'validation_rmse',\n",
      "       'validation_logloss', 'validation_auc', 'validation_pr_auc',\n",
      "       'validation_lift', 'validation_classification_error'],\n",
      "      dtype='object')\n"
     ]
    }
   ],
   "source": [
    "score_history_checkpoint = gbm_model_checkpoint.score_history()\n",
    "score_history_checkpoint = pd.DataFrame(score_history_checkpoint)\n",
    "print(score_history_checkpoint.columns)"
   ]
  },
  {
   "cell_type": "code",
   "execution_count": 58,
   "metadata": {},
   "outputs": [
    {
     "data": {
      "image/png": "[encoded data removed]",
      "text/plain": [
       "<Figure size 720x360 with 1 Axes>"
      ]
     },
     "metadata": {
      "needs_background": "light"
     },
     "output_type": "display_data"
    }
   ],
   "source": [
    "score_history_checkpoint.plot(x='number_of_trees' , y = ['training_auc', 'training_logloss'], figsize=(10,5))\n",
    "plt.show()"
   ]
  },
  {
   "cell_type": "code",
   "execution_count": 59,
   "metadata": {},
   "outputs": [
    {
     "name": "stdout",
     "output_type": "stream",
     "text": [
      "H2O session _sid_b276 closed.\n"
     ]
    }
   ],
   "source": [
    "h2o.cluster().shutdown()"
   ]
  },
  {
   "cell_type": "code",
   "execution_count": null,
   "metadata": {},
   "outputs": [],
   "source": []
  }
 ],
 "metadata": {
  "kernelspec": {
   "display_name": "Python 3",
   "language": "python",
   "name": "python3"
  },
  "language_info": {
   "codemirror_mode": {
    "name": "ipython",
    "version": 3
   },
   "file_extension": ".py",
   "mimetype": "text/x-python",
   "name": "python",
   "nbconvert_exporter": "python",
   "pygments_lexer": "ipython3",
   "version": "3.7.1"
  }
 },
 "nbformat": 4,
 "nbformat_minor": 2
}
