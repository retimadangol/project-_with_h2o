{
 "cells": [
  {
   "cell_type": "markdown",
   "metadata": {},
   "source": [
    "## All Imports for the script"
   ]
  },
  {
   "cell_type": "code",
   "execution_count": 1,
   "metadata": {},
   "outputs": [],
   "source": [
    "import h2o\n",
    "import seaborn as sns\n",
    "import pandas as pd\n",
    "from h2o.estimators.glm import H2OGeneralizedLinearEstimator\n",
    "import warnings\n",
    "warnings.filterwarnings('ignore')"
   ]
  },
  {
   "cell_type": "code",
   "execution_count": 2,
   "metadata": {},
   "outputs": [],
   "source": [
    "# CONSTANT DECLARATIONS\n",
    "ORD_WEATHER_DATA_PATH = \"C://repository/h2o_project/h2o_data/Chicago_Ohare_International_Airport.csv\"\n",
    "ORD_AIRPORT_DATA_PATH = \"C://repository/h2o_project/h2o_data/allyears2k.csv\""
   ]
  },
  {
   "cell_type": "markdown",
   "metadata": {},
   "source": [
    "## Initiating h2o instance"
   ]
  },
  {
   "cell_type": "code",
   "execution_count": 3,
   "metadata": {},
   "outputs": [
    {
     "name": "stdout",
     "output_type": "stream",
     "text": [
      "Checking whether there is an H2O instance running at http://localhost:54321 ..... not found.\n",
      "Attempting to start a local H2O server...\n",
      "; Java HotSpot(TM) Client VM (build 25.201-b09, mixed mode)\n",
      "  Starting server from c:\\programdata\\miniconda3\\lib\\site-packages\\h2o\\backend\\bin\\h2o.jar\n",
      "  Ice root: C:\\Users\\retim\\AppData\\Local\\Temp\\tmpkbghcwqe\n",
      "  JVM stdout: C:\\Users\\retim\\AppData\\Local\\Temp\\tmpkbghcwqe\\h2o_retim_started_from_python.out\n",
      "  JVM stderr: C:\\Users\\retim\\AppData\\Local\\Temp\\tmpkbghcwqe\\h2o_retim_started_from_python.err\n",
      "  Server is running at http://127.0.0.1:54321\n",
      "Connecting to H2O server at http://127.0.0.1:54321 ... successful.\n"
     ]
    },
    {
     "data": {
      "text/html": [
       "<div style=\"overflow:auto\"><table style=\"width:50%\"><tr><td>H2O cluster uptime:</td>\n",
       "<td>01 secs</td></tr>\n",
       "<tr><td>H2O cluster timezone:</td>\n",
       "<td>America/Denver</td></tr>\n",
       "<tr><td>H2O data parsing timezone:</td>\n",
       "<td>UTC</td></tr>\n",
       "<tr><td>H2O cluster version:</td>\n",
       "<td>3.24.0.1</td></tr>\n",
       "<tr><td>H2O cluster version age:</td>\n",
       "<td>21 days, 8 hours and 34 minutes </td></tr>\n",
       "<tr><td>H2O cluster name:</td>\n",
       "<td>H2O_from_python_retim_zsa989</td></tr>\n",
       "<tr><td>H2O cluster total nodes:</td>\n",
       "<td>1</td></tr>\n",
       "<tr><td>H2O cluster free memory:</td>\n",
       "<td>989 Mb</td></tr>\n",
       "<tr><td>H2O cluster total cores:</td>\n",
       "<td>6</td></tr>\n",
       "<tr><td>H2O cluster allowed cores:</td>\n",
       "<td>6</td></tr>\n",
       "<tr><td>H2O cluster status:</td>\n",
       "<td>accepting new members, healthy</td></tr>\n",
       "<tr><td>H2O connection url:</td>\n",
       "<td>http://127.0.0.1:54321</td></tr>\n",
       "<tr><td>H2O connection proxy:</td>\n",
       "<td>None</td></tr>\n",
       "<tr><td>H2O internal security:</td>\n",
       "<td>False</td></tr>\n",
       "<tr><td>H2O API Extensions:</td>\n",
       "<td>Amazon S3, Algos, AutoML, Core V3, Core V4</td></tr>\n",
       "<tr><td>Python version:</td>\n",
       "<td>3.7.1 final</td></tr></table></div>"
      ],
      "text/plain": [
       "--------------------------  ------------------------------------------\n",
       "H2O cluster uptime:         01 secs\n",
       "H2O cluster timezone:       America/Denver\n",
       "H2O data parsing timezone:  UTC\n",
       "H2O cluster version:        3.24.0.1\n",
       "H2O cluster version age:    21 days, 8 hours and 34 minutes\n",
       "H2O cluster name:           H2O_from_python_retim_zsa989\n",
       "H2O cluster total nodes:    1\n",
       "H2O cluster free memory:    989 Mb\n",
       "H2O cluster total cores:    6\n",
       "H2O cluster allowed cores:  6\n",
       "H2O cluster status:         accepting new members, healthy\n",
       "H2O connection url:         http://127.0.0.1:54321\n",
       "H2O connection proxy:\n",
       "H2O internal security:      False\n",
       "H2O API Extensions:         Amazon S3, Algos, AutoML, Core V3, Core V4\n",
       "Python version:             3.7.1 final\n",
       "--------------------------  ------------------------------------------"
      ]
     },
     "metadata": {},
     "output_type": "display_data"
    }
   ],
   "source": [
    "h2o.init(max_mem_size=\"1G\")"
   ]
  },
  {
   "cell_type": "markdown",
   "metadata": {},
   "source": [
    "## 1. import data Chicago weather and Airline dataset"
   ]
  },
  {
   "cell_type": "code",
   "execution_count": 4,
   "metadata": {},
   "outputs": [
    {
     "name": "stdout",
     "output_type": "stream",
     "text": [
      "Parse progress: |█████████████████████████████████████████████████████████| 100%\n",
      "Parse progress: |█████████████████████████████████████████████████████████| 100%\n"
     ]
    }
   ],
   "source": [
    "# weather Data Set\n",
    "weather_df = h2o.import_file(ORD_WEATHER_DATA_PATH)\n",
    "\n",
    "# Airline Data Set\n",
    "airline_df = h2o.import_file(ORD_AIRPORT_DATA_PATH)"
   ]
  },
  {
   "cell_type": "markdown",
   "metadata": {},
   "source": [
    "### 2. Transform Weather data's Date column to three new columns \"Year\", \"Month\", \"DayofMonth\""
   ]
  },
  {
   "cell_type": "code",
   "execution_count": 5,
   "metadata": {},
   "outputs": [],
   "source": [
    "# h2o library to extract year from the date\n",
    "weather_df[\"Year\"]= weather_df['Date'].year()\n",
    "\n",
    "# h2o library to extract month from the date\n",
    "weather_df[\"Month\"]= weather_df['Date'].month()\n",
    "\n",
    "# h2o library to extract day from the date\n",
    "weather_df[\"DayofMonth\"]= weather_df['Date'].day()"
   ]
  },
  {
   "cell_type": "code",
   "execution_count": 6,
   "metadata": {},
   "outputs": [
    {
     "data": {
      "text/html": [
       "<table>\n",
       "<thead>\n",
       "<tr><th>Date               </th><th style=\"text-align: right;\">  TmaxF</th><th style=\"text-align: right;\">  TminF</th><th style=\"text-align: right;\">  TmeanF</th><th style=\"text-align: right;\">  PrcpIn</th><th style=\"text-align: right;\">  SnowIn</th><th style=\"text-align: right;\">  CDD</th><th style=\"text-align: right;\">  HDD</th><th style=\"text-align: right;\">  GDD</th><th style=\"text-align: right;\">  Year</th><th style=\"text-align: right;\">  Month</th><th style=\"text-align: right;\">  DayofMonth</th></tr>\n",
       "</thead>\n",
       "<tbody>\n",
       "<tr><td>2005-01-01 00:00:00</td><td style=\"text-align: right;\">     41</td><td style=\"text-align: right;\">     25</td><td style=\"text-align: right;\">    33  </td><td style=\"text-align: right;\">    0.31</td><td style=\"text-align: right;\">     0  </td><td style=\"text-align: right;\">    0</td><td style=\"text-align: right;\"> 32  </td><td style=\"text-align: right;\">    0</td><td style=\"text-align: right;\">  2005</td><td style=\"text-align: right;\">      1</td><td style=\"text-align: right;\">           1</td></tr>\n",
       "<tr><td>2005-01-02 00:00:00</td><td style=\"text-align: right;\">     54</td><td style=\"text-align: right;\">     33</td><td style=\"text-align: right;\">    43.5</td><td style=\"text-align: right;\">    0.08</td><td style=\"text-align: right;\">     0  </td><td style=\"text-align: right;\">    0</td><td style=\"text-align: right;\"> 21.5</td><td style=\"text-align: right;\">    0</td><td style=\"text-align: right;\">  2005</td><td style=\"text-align: right;\">      1</td><td style=\"text-align: right;\">           2</td></tr>\n",
       "<tr><td>2005-01-03 00:00:00</td><td style=\"text-align: right;\">     36</td><td style=\"text-align: right;\">     32</td><td style=\"text-align: right;\">    34  </td><td style=\"text-align: right;\">    0.36</td><td style=\"text-align: right;\">     0  </td><td style=\"text-align: right;\">    0</td><td style=\"text-align: right;\"> 31  </td><td style=\"text-align: right;\">    0</td><td style=\"text-align: right;\">  2005</td><td style=\"text-align: right;\">      1</td><td style=\"text-align: right;\">           3</td></tr>\n",
       "<tr><td>2005-01-04 00:00:00</td><td style=\"text-align: right;\">     35</td><td style=\"text-align: right;\">     30</td><td style=\"text-align: right;\">    32.5</td><td style=\"text-align: right;\">    0.05</td><td style=\"text-align: right;\">     1.2</td><td style=\"text-align: right;\">    0</td><td style=\"text-align: right;\"> 32.5</td><td style=\"text-align: right;\">    0</td><td style=\"text-align: right;\">  2005</td><td style=\"text-align: right;\">      1</td><td style=\"text-align: right;\">           4</td></tr>\n",
       "<tr><td>2005-01-05 00:00:00</td><td style=\"text-align: right;\">     31</td><td style=\"text-align: right;\">     26</td><td style=\"text-align: right;\">    28.5</td><td style=\"text-align: right;\">    0.38</td><td style=\"text-align: right;\">     6.2</td><td style=\"text-align: right;\">    0</td><td style=\"text-align: right;\"> 36.5</td><td style=\"text-align: right;\">    0</td><td style=\"text-align: right;\">  2005</td><td style=\"text-align: right;\">      1</td><td style=\"text-align: right;\">           5</td></tr>\n",
       "</tbody>\n",
       "</table>"
      ]
     },
     "metadata": {},
     "output_type": "display_data"
    },
    {
     "data": {
      "text/plain": []
     },
     "execution_count": 6,
     "metadata": {},
     "output_type": "execute_result"
    }
   ],
   "source": [
    "#ohare_df = ohare_df.drop('Date')\n",
    "weather_df.head(5)"
   ]
  },
  {
   "cell_type": "markdown",
   "metadata": {},
   "source": [
    "### 4. Question: What is the range of the Year column in weather dataset?"
   ]
  },
  {
   "cell_type": "code",
   "execution_count": 7,
   "metadata": {},
   "outputs": [
    {
     "name": "stdout",
     "output_type": "stream",
     "text": [
      "weather data year range and nrows for each year: \n"
     ]
    },
    {
     "data": {
      "text/html": [
       "<table>\n",
       "<thead>\n",
       "<tr><th style=\"text-align: right;\">  Year</th><th style=\"text-align: right;\">  Count</th></tr>\n",
       "</thead>\n",
       "<tbody>\n",
       "<tr><td style=\"text-align: right;\">  2005</td><td style=\"text-align: right;\">    365</td></tr>\n",
       "<tr><td style=\"text-align: right;\">  2006</td><td style=\"text-align: right;\">    365</td></tr>\n",
       "<tr><td style=\"text-align: right;\">  2007</td><td style=\"text-align: right;\">    365</td></tr>\n",
       "<tr><td style=\"text-align: right;\">  2008</td><td style=\"text-align: right;\">    366</td></tr>\n",
       "</tbody>\n",
       "</table>"
      ]
     },
     "metadata": {},
     "output_type": "display_data"
    },
    {
     "name": "stdout",
     "output_type": "stream",
     "text": [
      "\n"
     ]
    }
   ],
   "source": [
    "# year range in weather data\n",
    "print( \"weather data year range and nrows for each year: \")\n",
    "print(weather_df[\"Year\"].table())\n"
   ]
  },
  {
   "cell_type": "code",
   "execution_count": 8,
   "metadata": {},
   "outputs": [
    {
     "data": {
      "image/png": "[encoded data removed]",
      "text/plain": [
       "<Figure size 576x360 with 1 Axes>"
      ]
     },
     "metadata": {
      "needs_background": "light"
     },
     "output_type": "display_data"
    }
   ],
   "source": [
    "import matplotlib.pyplot as plt\n",
    "weather_df[\"Year\"].table().as_data_frame().plot(x = \"Year\", \n",
    "                                                y = \"Count\", \n",
    "                                                kind = \"bar\",\n",
    "                                               figsize = (8,5))\n",
    "plt.show()"
   ]
  },
  {
   "cell_type": "markdown",
   "metadata": {},
   "source": [
    "### 3. Question: What is the range of the Year column in airlines dataset?"
   ]
  },
  {
   "cell_type": "code",
   "execution_count": 9,
   "metadata": {},
   "outputs": [
    {
     "name": "stdout",
     "output_type": "stream",
     "text": [
      "Total unique years in the dataframe: 22\n"
     ]
    }
   ],
   "source": [
    "# checking unique year in the dataframe\n",
    "print (\"Total unique years in the dataframe: {}\".format(airline_df[\"Year\"].table().shape[0]))"
   ]
  },
  {
   "cell_type": "code",
   "execution_count": 10,
   "metadata": {},
   "outputs": [
    {
     "name": "stdout",
     "output_type": "stream",
     "text": [
      "airline data year range and nrows for each year: \n"
     ]
    },
    {
     "data": {
      "text/html": [
       "<table>\n",
       "<thead>\n",
       "<tr><th style=\"text-align: right;\">  Year</th><th style=\"text-align: right;\">  Count</th></tr>\n",
       "</thead>\n",
       "<tbody>\n",
       "<tr><td style=\"text-align: right;\">  1987</td><td style=\"text-align: right;\">   1999</td></tr>\n",
       "<tr><td style=\"text-align: right;\">  1988</td><td style=\"text-align: right;\">   1999</td></tr>\n",
       "<tr><td style=\"text-align: right;\">  1989</td><td style=\"text-align: right;\">   1999</td></tr>\n",
       "<tr><td style=\"text-align: right;\">  1990</td><td style=\"text-align: right;\">   1999</td></tr>\n",
       "<tr><td style=\"text-align: right;\">  1991</td><td style=\"text-align: right;\">   1999</td></tr>\n",
       "<tr><td style=\"text-align: right;\">  1992</td><td style=\"text-align: right;\">   1999</td></tr>\n",
       "<tr><td style=\"text-align: right;\">  1993</td><td style=\"text-align: right;\">   1999</td></tr>\n",
       "<tr><td style=\"text-align: right;\">  1994</td><td style=\"text-align: right;\">   1999</td></tr>\n",
       "<tr><td style=\"text-align: right;\">  1995</td><td style=\"text-align: right;\">   1999</td></tr>\n",
       "<tr><td style=\"text-align: right;\">  1996</td><td style=\"text-align: right;\">   1999</td></tr>\n",
       "<tr><td style=\"text-align: right;\">  1997</td><td style=\"text-align: right;\">   1999</td></tr>\n",
       "<tr><td style=\"text-align: right;\">  1998</td><td style=\"text-align: right;\">   1999</td></tr>\n",
       "<tr><td style=\"text-align: right;\">  1999</td><td style=\"text-align: right;\">   1999</td></tr>\n",
       "<tr><td style=\"text-align: right;\">  2000</td><td style=\"text-align: right;\">   1999</td></tr>\n",
       "<tr><td style=\"text-align: right;\">  2001</td><td style=\"text-align: right;\">   1999</td></tr>\n",
       "<tr><td style=\"text-align: right;\">  2002</td><td style=\"text-align: right;\">   1999</td></tr>\n",
       "<tr><td style=\"text-align: right;\">  2003</td><td style=\"text-align: right;\">   1999</td></tr>\n",
       "<tr><td style=\"text-align: right;\">  2004</td><td style=\"text-align: right;\">   1999</td></tr>\n",
       "<tr><td style=\"text-align: right;\">  2005</td><td style=\"text-align: right;\">   1999</td></tr>\n",
       "<tr><td style=\"text-align: right;\">  2006</td><td style=\"text-align: right;\">   1999</td></tr>\n",
       "<tr><td style=\"text-align: right;\">  2007</td><td style=\"text-align: right;\">   1999</td></tr>\n",
       "<tr><td style=\"text-align: right;\">  2008</td><td style=\"text-align: right;\">   1999</td></tr>\n",
       "</tbody>\n",
       "</table>"
      ]
     },
     "metadata": {},
     "output_type": "display_data"
    },
    {
     "name": "stdout",
     "output_type": "stream",
     "text": [
      "\n"
     ]
    }
   ],
   "source": [
    "# lets check out all 22 \n",
    "print( \"airline data year range and nrows for each year: \")\n",
    "print (airline_df[\"Year\"].table().head(22))"
   ]
  },
  {
   "cell_type": "code",
   "execution_count": 33,
   "metadata": {},
   "outputs": [
    {
     "data": {
      "image/png": "[encoded data removed]",
      "text/plain": [
       "<Figure size 1080x360 with 1 Axes>"
      ]
     },
     "metadata": {
      "needs_background": "light"
     },
     "output_type": "display_data"
    }
   ],
   "source": [
    "airline_df[\"Year\"].table().as_data_frame().plot(x = \"Year\", \n",
    "                                                y = \"Count\", \n",
    "                                                kind = \"bar\", \n",
    "                                                figsize = (15, 5)\n",
    "                                               )\n",
    "plt.show()"
   ]
  },
  {
   "cell_type": "markdown",
   "metadata": {},
   "source": [
    "### 5. Filter airlines data to only flights outgoing or incoming to Chicago, ORD."
   ]
  },
  {
   "cell_type": "code",
   "execution_count": 11,
   "metadata": {},
   "outputs": [],
   "source": [
    "# data frame with only \"ORD\" as origin or departure\n",
    "ord_only_df = airline_df [(airline_df['Origin'] == 'ORD')|(airline_df['Dest'] == 'ORD')]"
   ]
  },
  {
   "cell_type": "code",
   "execution_count": 12,
   "metadata": {},
   "outputs": [
    {
     "data": {
      "text/plain": [
       "(4349, 31)"
      ]
     },
     "execution_count": 12,
     "metadata": {},
     "output_type": "execute_result"
    }
   ],
   "source": [
    "# checking if there are decent number of data points\n",
    "ord_only_df.shape"
   ]
  },
  {
   "cell_type": "code",
   "execution_count": 13,
   "metadata": {},
   "outputs": [
    {
     "data": {
      "text/plain": [
       "10"
      ]
     },
     "execution_count": 13,
     "metadata": {},
     "output_type": "execute_result"
    }
   ],
   "source": [
    "# checking unique year in the dataframe\n",
    "ord_only_df['Year'].table().shape[0]"
   ]
  },
  {
   "cell_type": "code",
   "execution_count": 14,
   "metadata": {},
   "outputs": [
    {
     "data": {
      "text/html": [
       "<table>\n",
       "<thead>\n",
       "<tr><th style=\"text-align: right;\">  Year</th><th style=\"text-align: right;\">  Count</th></tr>\n",
       "</thead>\n",
       "<tbody>\n",
       "<tr><td style=\"text-align: right;\">  1989</td><td style=\"text-align: right;\">   1054</td></tr>\n",
       "<tr><td style=\"text-align: right;\">  1991</td><td style=\"text-align: right;\">      6</td></tr>\n",
       "<tr><td style=\"text-align: right;\">  1994</td><td style=\"text-align: right;\">     84</td></tr>\n",
       "<tr><td style=\"text-align: right;\">  1995</td><td style=\"text-align: right;\">    237</td></tr>\n",
       "<tr><td style=\"text-align: right;\">  2001</td><td style=\"text-align: right;\">     27</td></tr>\n",
       "<tr><td style=\"text-align: right;\">  2002</td><td style=\"text-align: right;\">     31</td></tr>\n",
       "<tr><td style=\"text-align: right;\">  2003</td><td style=\"text-align: right;\">    770</td></tr>\n",
       "<tr><td style=\"text-align: right;\">  2004</td><td style=\"text-align: right;\">   1053</td></tr>\n",
       "<tr><td style=\"text-align: right;\">  2005</td><td style=\"text-align: right;\">   1031</td></tr>\n",
       "<tr><td style=\"text-align: right;\">  2006</td><td style=\"text-align: right;\">     56</td></tr>\n",
       "</tbody>\n",
       "</table>"
      ]
     },
     "metadata": {},
     "output_type": "display_data"
    },
    {
     "data": {
      "text/plain": []
     },
     "execution_count": 14,
     "metadata": {},
     "output_type": "execute_result"
    }
   ],
   "source": [
    "# lets take a look at all 10 unique years and their counts\n",
    "ord_only_df['Year'].table().head(10)"
   ]
  },
  {
   "cell_type": "code",
   "execution_count": 15,
   "metadata": {},
   "outputs": [
    {
     "data": {
      "image/png": "[encoded data removed]",
      "text/plain": [
       "<Figure size 1080x360 with 1 Axes>"
      ]
     },
     "metadata": {
      "needs_background": "light"
     },
     "output_type": "display_data"
    }
   ],
   "source": [
    "ord_only_df['Year'].table().as_data_frame().plot(x = \"Year\", \n",
    "                                                y = \"Count\", \n",
    "                                                kind = \"bar\", \n",
    "                                                figsize = (15, 5)\n",
    "                                               )\n",
    "plt.show()"
   ]
  },
  {
   "cell_type": "markdown",
   "metadata": {},
   "source": [
    "### 6. Run a join of the two frames as you see fit, specify in the comments if you ran an outer left, outer right, or inner join."
   ]
  },
  {
   "cell_type": "markdown",
   "metadata": {},
   "source": [
    "Noticed that only 2005 and 2006 are the common year in both data frame to join with weather data to get any meaningful predictions"
   ]
  },
  {
   "cell_type": "code",
   "execution_count": 16,
   "metadata": {},
   "outputs": [
    {
     "name": "stdout",
     "output_type": "stream",
     "text": [
      "(1087, 31)\n"
     ]
    }
   ],
   "source": [
    "## only has 2 years in common in both dataframe\n",
    "common_years = [2005,2006]\n",
    "\n",
    "## filter only common years from airline data of ORD\n",
    "ord_only_df_from_05 = ord_only_df[ord_only_df['Year'].isin(common_years)]\n",
    "\n",
    "## filter only common years from weather data\n",
    "ohare_df_from_05 = weather_df[weather_df['Year'].isin(common_years)]\n",
    "\n",
    "print (ord_only_df_from_05.shape)"
   ]
  },
  {
   "cell_type": "code",
   "execution_count": 17,
   "metadata": {},
   "outputs": [
    {
     "name": "stdout",
     "output_type": "stream",
     "text": [
      "merging are possible in following columns: ['Year', 'Month', 'DayofMonth'] \n"
     ]
    }
   ],
   "source": [
    "# before merging checking which columns are common in both dataframe to merge on\n",
    "print (\"merging are possible in following columns: {} \".format([x for x in ord_only_df.columns if x in weather_df.columns]))"
   ]
  },
  {
   "cell_type": "markdown",
   "metadata": {},
   "source": [
    "#### Full outer join on Year, Month, DayofMonth"
   ]
  },
  {
   "cell_type": "code",
   "execution_count": 18,
   "metadata": {},
   "outputs": [
    {
     "name": "stdout",
     "output_type": "stream",
     "text": [
      "(1087, 40)\n"
     ]
    }
   ],
   "source": [
    "ord_only_df_ohare_df = ord_only_df_from_05.merge(ohare_df_from_05)\n",
    "\n",
    "print (ord_only_df_ohare_df.shape)"
   ]
  },
  {
   "cell_type": "code",
   "execution_count": 19,
   "metadata": {},
   "outputs": [
    {
     "data": {
      "text/html": [
       "<table>\n",
       "<thead>\n",
       "<tr><th style=\"text-align: right;\">  DayofMonth</th><th style=\"text-align: right;\">  Year</th><th style=\"text-align: right;\">  Month</th><th style=\"text-align: right;\">  DayOfWeek</th><th style=\"text-align: right;\">  DepTime</th><th style=\"text-align: right;\">  CRSDepTime</th><th style=\"text-align: right;\">  ArrTime</th><th style=\"text-align: right;\">  CRSArrTime</th><th>UniqueCarrier  </th><th style=\"text-align: right;\">  FlightNum</th><th>TailNum  </th><th style=\"text-align: right;\">  ActualElapsedTime</th><th style=\"text-align: right;\">  CRSElapsedTime</th><th style=\"text-align: right;\">  AirTime</th><th style=\"text-align: right;\">  ArrDelay</th><th style=\"text-align: right;\">  DepDelay</th><th>Origin  </th><th>Dest  </th><th style=\"text-align: right;\">  Distance</th><th style=\"text-align: right;\">  TaxiIn</th><th style=\"text-align: right;\">  TaxiOut</th><th style=\"text-align: right;\">  Cancelled</th><th>CancellationCode  </th><th style=\"text-align: right;\">  Diverted</th><th style=\"text-align: right;\">  CarrierDelay</th><th style=\"text-align: right;\">  WeatherDelay</th><th style=\"text-align: right;\">  NASDelay</th><th style=\"text-align: right;\">  SecurityDelay</th><th style=\"text-align: right;\">  LateAircraftDelay</th><th>IsArrDelayed  </th><th>IsDepDelayed  </th><th>Date               </th><th style=\"text-align: right;\">  TmaxF</th><th style=\"text-align: right;\">  TminF</th><th style=\"text-align: right;\">  TmeanF</th><th style=\"text-align: right;\">  PrcpIn</th><th style=\"text-align: right;\">  SnowIn</th><th style=\"text-align: right;\">  CDD</th><th style=\"text-align: right;\">  HDD</th><th style=\"text-align: right;\">  GDD</th></tr>\n",
       "</thead>\n",
       "<tbody>\n",
       "<tr><td style=\"text-align: right;\">           1</td><td style=\"text-align: right;\">  2005</td><td style=\"text-align: right;\">      1</td><td style=\"text-align: right;\">          6</td><td style=\"text-align: right;\">     1704</td><td style=\"text-align: right;\">        1715</td><td style=\"text-align: right;\">     1919</td><td style=\"text-align: right;\">        1915</td><td>UA             </td><td style=\"text-align: right;\">        543</td><td>N203UA   </td><td style=\"text-align: right;\">                195</td><td style=\"text-align: right;\">             180</td><td style=\"text-align: right;\">      144</td><td style=\"text-align: right;\">         4</td><td style=\"text-align: right;\">       -11</td><td>BOS     </td><td>ORD   </td><td style=\"text-align: right;\">       867</td><td style=\"text-align: right;\">      13</td><td style=\"text-align: right;\">       38</td><td style=\"text-align: right;\">          0</td><td>                  </td><td style=\"text-align: right;\">         0</td><td style=\"text-align: right;\">             0</td><td style=\"text-align: right;\">             0</td><td style=\"text-align: right;\">         0</td><td style=\"text-align: right;\">              0</td><td style=\"text-align: right;\">                  0</td><td>YES           </td><td>NO            </td><td>2005-01-01 00:00:00</td><td style=\"text-align: right;\">     41</td><td style=\"text-align: right;\">     25</td><td style=\"text-align: right;\">      33</td><td style=\"text-align: right;\">    0.31</td><td style=\"text-align: right;\">       0</td><td style=\"text-align: right;\">    0</td><td style=\"text-align: right;\">   32</td><td style=\"text-align: right;\">    0</td></tr>\n",
       "<tr><td style=\"text-align: right;\">           1</td><td style=\"text-align: right;\">  2005</td><td style=\"text-align: right;\">      1</td><td style=\"text-align: right;\">          6</td><td style=\"text-align: right;\">     2220</td><td style=\"text-align: right;\">        2045</td><td style=\"text-align: right;\">      119</td><td style=\"text-align: right;\">        2359</td><td>UA             </td><td style=\"text-align: right;\">        544</td><td>N325UA   </td><td style=\"text-align: right;\">                119</td><td style=\"text-align: right;\">             134</td><td style=\"text-align: right;\">      103</td><td style=\"text-align: right;\">        80</td><td style=\"text-align: right;\">        95</td><td>ORD     </td><td>BOS   </td><td style=\"text-align: right;\">       867</td><td style=\"text-align: right;\">       2</td><td style=\"text-align: right;\">       14</td><td style=\"text-align: right;\">          0</td><td>                  </td><td style=\"text-align: right;\">         0</td><td style=\"text-align: right;\">            58</td><td style=\"text-align: right;\">             0</td><td style=\"text-align: right;\">         0</td><td style=\"text-align: right;\">              0</td><td style=\"text-align: right;\">                 22</td><td>YES           </td><td>YES           </td><td>2005-01-01 00:00:00</td><td style=\"text-align: right;\">     41</td><td style=\"text-align: right;\">     25</td><td style=\"text-align: right;\">      33</td><td style=\"text-align: right;\">    0.31</td><td style=\"text-align: right;\">       0</td><td style=\"text-align: right;\">    0</td><td style=\"text-align: right;\">   32</td><td style=\"text-align: right;\">    0</td></tr>\n",
       "<tr><td style=\"text-align: right;\">           1</td><td style=\"text-align: right;\">  2005</td><td style=\"text-align: right;\">      1</td><td style=\"text-align: right;\">          6</td><td style=\"text-align: right;\">     1841</td><td style=\"text-align: right;\">        1810</td><td style=\"text-align: right;\">     2041</td><td style=\"text-align: right;\">        2010</td><td>UA             </td><td style=\"text-align: right;\">        545</td><td>N325UA   </td><td style=\"text-align: right;\">                180</td><td style=\"text-align: right;\">             180</td><td style=\"text-align: right;\">      135</td><td style=\"text-align: right;\">        31</td><td style=\"text-align: right;\">        31</td><td>BOS     </td><td>ORD   </td><td style=\"text-align: right;\">       867</td><td style=\"text-align: right;\">      16</td><td style=\"text-align: right;\">       29</td><td style=\"text-align: right;\">          0</td><td>                  </td><td style=\"text-align: right;\">         0</td><td style=\"text-align: right;\">            10</td><td style=\"text-align: right;\">             0</td><td style=\"text-align: right;\">         0</td><td style=\"text-align: right;\">              0</td><td style=\"text-align: right;\">                 21</td><td>YES           </td><td>YES           </td><td>2005-01-01 00:00:00</td><td style=\"text-align: right;\">     41</td><td style=\"text-align: right;\">     25</td><td style=\"text-align: right;\">      33</td><td style=\"text-align: right;\">    0.31</td><td style=\"text-align: right;\">       0</td><td style=\"text-align: right;\">    0</td><td style=\"text-align: right;\">   32</td><td style=\"text-align: right;\">    0</td></tr>\n",
       "<tr><td style=\"text-align: right;\">           1</td><td style=\"text-align: right;\">  2005</td><td style=\"text-align: right;\">      1</td><td style=\"text-align: right;\">          6</td><td style=\"text-align: right;\">     2342</td><td style=\"text-align: right;\">        2115</td><td style=\"text-align: right;\">      151</td><td style=\"text-align: right;\">        2319</td><td>UA             </td><td style=\"text-align: right;\">        546</td><td>N386UA   </td><td style=\"text-align: right;\">                 69</td><td style=\"text-align: right;\">              64</td><td style=\"text-align: right;\">       42</td><td style=\"text-align: right;\">       152</td><td style=\"text-align: right;\">       147</td><td>ORD     </td><td>DAY   </td><td style=\"text-align: right;\">       240</td><td style=\"text-align: right;\">       7</td><td style=\"text-align: right;\">       20</td><td style=\"text-align: right;\">          0</td><td>                  </td><td style=\"text-align: right;\">         0</td><td style=\"text-align: right;\">             7</td><td style=\"text-align: right;\">             0</td><td style=\"text-align: right;\">         5</td><td style=\"text-align: right;\">              0</td><td style=\"text-align: right;\">                140</td><td>YES           </td><td>YES           </td><td>2005-01-01 00:00:00</td><td style=\"text-align: right;\">     41</td><td style=\"text-align: right;\">     25</td><td style=\"text-align: right;\">      33</td><td style=\"text-align: right;\">    0.31</td><td style=\"text-align: right;\">       0</td><td style=\"text-align: right;\">    0</td><td style=\"text-align: right;\">   32</td><td style=\"text-align: right;\">    0</td></tr>\n",
       "<tr><td style=\"text-align: right;\">           1</td><td style=\"text-align: right;\">  2005</td><td style=\"text-align: right;\">      1</td><td style=\"text-align: right;\">          6</td><td style=\"text-align: right;\">      831</td><td style=\"text-align: right;\">         835</td><td style=\"text-align: right;\">     1034</td><td style=\"text-align: right;\">        1052</td><td>UA             </td><td style=\"text-align: right;\">        547</td><td>N427UA   </td><td style=\"text-align: right;\">                183</td><td style=\"text-align: right;\">             197</td><td style=\"text-align: right;\">      164</td><td style=\"text-align: right;\">       -18</td><td style=\"text-align: right;\">        -4</td><td>MIA     </td><td>ORD   </td><td style=\"text-align: right;\">      1197</td><td style=\"text-align: right;\">       7</td><td style=\"text-align: right;\">       12</td><td style=\"text-align: right;\">          0</td><td>                  </td><td style=\"text-align: right;\">         0</td><td style=\"text-align: right;\">             0</td><td style=\"text-align: right;\">             0</td><td style=\"text-align: right;\">         0</td><td style=\"text-align: right;\">              0</td><td style=\"text-align: right;\">                  0</td><td>NO            </td><td>NO            </td><td>2005-01-01 00:00:00</td><td style=\"text-align: right;\">     41</td><td style=\"text-align: right;\">     25</td><td style=\"text-align: right;\">      33</td><td style=\"text-align: right;\">    0.31</td><td style=\"text-align: right;\">       0</td><td style=\"text-align: right;\">    0</td><td style=\"text-align: right;\">   32</td><td style=\"text-align: right;\">    0</td></tr>\n",
       "</tbody>\n",
       "</table>"
      ]
     },
     "metadata": {},
     "output_type": "display_data"
    },
    {
     "data": {
      "text/plain": []
     },
     "execution_count": 19,
     "metadata": {},
     "output_type": "execute_result"
    }
   ],
   "source": [
    "ord_only_df_ohare_df.head(5)"
   ]
  },
  {
   "cell_type": "code",
   "execution_count": 22,
   "metadata": {},
   "outputs": [
    {
     "name": "stdout",
     "output_type": "stream",
     "text": [
      "Rows:1087\n",
      "Cols:40\n",
      "\n",
      "\n"
     ]
    },
    {
     "data": {
      "text/html": [
       "<table>\n",
       "<thead>\n",
       "<tr><th>       </th><th>DayofMonth        </th><th>Year               </th><th>Month  </th><th>DayOfWeek         </th><th>DepTime          </th><th>CRSDepTime        </th><th>ArrTime          </th><th>CRSArrTime        </th><th>UniqueCarrier  </th><th>FlightNum         </th><th>TailNum  </th><th>ActualElapsedTime  </th><th>CRSElapsedTime    </th><th>AirTime          </th><th>ArrDelay          </th><th>DepDelay         </th><th>Origin  </th><th>Dest  </th><th>Distance          </th><th>TaxiIn           </th><th>TaxiOut           </th><th>Cancelled          </th><th>CancellationCode  </th><th>Diverted             </th><th>CarrierDelay      </th><th>WeatherDelay       </th><th>NASDelay          </th><th>SecurityDelay  </th><th>LateAircraftDelay  </th><th>IsArrDelayed  </th><th>IsDepDelayed  </th><th>Date               </th><th>TmaxF             </th><th>TminF             </th><th>TmeanF            </th><th>PrcpIn             </th><th>SnowIn            </th><th>CDD  </th><th>HDD               </th><th>GDD  </th></tr>\n",
       "</thead>\n",
       "<tbody>\n",
       "<tr><td>type   </td><td>int               </td><td>int                </td><td>int    </td><td>int               </td><td>int              </td><td>int               </td><td>int              </td><td>int               </td><td>enum           </td><td>int               </td><td>enum     </td><td>int                </td><td>int               </td><td>int              </td><td>int               </td><td>int              </td><td>enum    </td><td>enum  </td><td>int               </td><td>int              </td><td>int               </td><td>int                </td><td>enum              </td><td>int                  </td><td>int               </td><td>int                </td><td>int               </td><td>int            </td><td>int                </td><td>enum          </td><td>enum          </td><td>time               </td><td>int               </td><td>int               </td><td>real              </td><td>real               </td><td>real              </td><td>int  </td><td>real              </td><td>int  </td></tr>\n",
       "<tr><td>mins   </td><td>1.0               </td><td>2005.0             </td><td>1.0    </td><td>1.0               </td><td>10.0             </td><td>600.0             </td><td>1.0              </td><td>442.0             </td><td>               </td><td>1.0               </td><td>         </td><td>51.0               </td><td>64.0              </td><td>37.0             </td><td>-36.0             </td><td>-15.0            </td><td>        </td><td>      </td><td>177.0             </td><td>0.0              </td><td>0.0               </td><td>0.0                </td><td>                  </td><td>0.0                  </td><td>0.0               </td><td>0.0                </td><td>0.0               </td><td>0.0            </td><td>0.0                </td><td>              </td><td>              </td><td>1104537600000.0    </td><td>11.0              </td><td>1.0               </td><td>6.5               </td><td>0.0                </td><td>0.0               </td><td>0.0  </td><td>17.0              </td><td>0.0  </td></tr>\n",
       "<tr><td>mean   </td><td>15.240110395584177</td><td>2005.0515179392823 </td><td>1.0    </td><td>3.8960441582336705</td><td>1315.770955165692</td><td>1302.2069917203312</td><td>1340.7685546875  </td><td>1455.1609935602576</td><td>               </td><td>574.2364305427783 </td><td>         </td><td>149.5908203125     </td><td>147.15823367065317</td><td>122.2470703125   </td><td>22.2109375        </td><td>20.40448343079922</td><td>        </td><td>      </td><td>834.9788408463661 </td><td>6.122355105795768</td><td>19.679852805887766</td><td>0.05611775528978841</td><td>                  </td><td>0.0018399264029438822</td><td>5.597976080956761 </td><td>0.24287028518859247</td><td>9.460901563937442 </td><td>0.0            </td><td>8.776448942042318  </td><td>              </td><td>              </td><td>1107392615271.3892 </td><td>32.3836246550138  </td><td>19.30358785648574 </td><td>25.84360625574977 </td><td>0.15729910714285714</td><td>0.9994577006507592</td><td>0.0  </td><td>39.15639374425023 </td><td>0.0  </td></tr>\n",
       "<tr><td>maxs   </td><td>31.0              </td><td>2006.0             </td><td>1.0    </td><td>7.0               </td><td>2354.0           </td><td>2315.0            </td><td>2400.0           </td><td>2359.0            </td><td>               </td><td>1698.0            </td><td>         </td><td>364.0              </td><td>282.0             </td><td>277.0            </td><td>399.0             </td><td>369.0            </td><td>        </td><td>      </td><td>1829.0            </td><td>49.0             </td><td>165.0             </td><td>1.0                </td><td>                  </td><td>1.0                  </td><td>369.0             </td><td>59.0               </td><td>285.0             </td><td>0.0            </td><td>253.0              </td><td>              </td><td>              </td><td>1137024000000.0    </td><td>62.0              </td><td>38.0              </td><td>48.0              </td><td>0.89               </td><td>6.2               </td><td>0.0  </td><td>58.5              </td><td>0.0  </td></tr>\n",
       "<tr><td>sigma  </td><td>8.909424066040309 </td><td>0.22115342082690095</td><td>0.0    </td><td>2.0313502820986646</td><td>546.7496891715926</td><td>518.2950982447303 </td><td>627.0912182757576</td><td>564.8986095454788 </td><td>               </td><td>127.53132081028397</td><td>         </td><td>60.86577667294583  </td><td>56.595856395585784</td><td>58.22619535252697</td><td>50.216894548000134</td><td>45.70530352292981</td><td>        </td><td>      </td><td>474.92094380727735</td><td>4.624055004839375</td><td>15.811638391828057</td><td>0.2302549170392227 </td><td>                  </td><td>0.04287460996600146  </td><td>22.982003439383288</td><td>2.728656035714888  </td><td>26.975469524968634</td><td>0.0            </td><td>27.803087475996204 </td><td>              </td><td>              </td><td>6933394784.585629  </td><td>11.155977203518843</td><td>11.026663482550894</td><td>10.458697732206552</td><td>0.22185521434773653</td><td>1.806547907134282 </td><td>0.0  </td><td>10.458697732206552</td><td>0.0  </td></tr>\n",
       "<tr><td>zeros  </td><td>0                 </td><td>0                  </td><td>0      </td><td>0                 </td><td>0                </td><td>0                 </td><td>0                </td><td>0                 </td><td>               </td><td>0                 </td><td>         </td><td>0                  </td><td>0                 </td><td>0                </td><td>23                </td><td>62               </td><td>        </td><td>      </td><td>0                 </td><td>63               </td><td>61                </td><td>1026               </td><td>                  </td><td>1085                 </td><td>924               </td><td>1074               </td><td>832               </td><td>1087           </td><td>912                </td><td>              </td><td>              </td><td>0                  </td><td>0                 </td><td>0                 </td><td>0                 </td><td>320                </td><td>553               </td><td>1087 </td><td>0                 </td><td>1087 </td></tr>\n",
       "<tr><td>missing</td><td>0                 </td><td>0                  </td><td>0      </td><td>0                 </td><td>61               </td><td>0                 </td><td>63               </td><td>0                 </td><td>0              </td><td>0                 </td><td>0        </td><td>63                 </td><td>0                 </td><td>63               </td><td>63                </td><td>61               </td><td>0       </td><td>0     </td><td>0                 </td><td>0                </td><td>0                 </td><td>0                  </td><td>1026              </td><td>0                    </td><td>0                 </td><td>0                  </td><td>0                 </td><td>0              </td><td>0                  </td><td>0             </td><td>0             </td><td>0                  </td><td>0                 </td><td>0                 </td><td>0                 </td><td>191                </td><td>165               </td><td>0    </td><td>0                 </td><td>0    </td></tr>\n",
       "<tr><td>0      </td><td>1.0               </td><td>2005.0             </td><td>1.0    </td><td>6.0               </td><td>1704.0           </td><td>1715.0            </td><td>1919.0           </td><td>1915.0            </td><td>UA             </td><td>543.0             </td><td>N203UA   </td><td>195.0              </td><td>180.0             </td><td>144.0            </td><td>4.0               </td><td>-11.0            </td><td>BOS     </td><td>ORD   </td><td>867.0             </td><td>13.0             </td><td>38.0              </td><td>0.0                </td><td>                  </td><td>0.0                  </td><td>0.0               </td><td>0.0                </td><td>0.0               </td><td>0.0            </td><td>0.0                </td><td>YES           </td><td>NO            </td><td>2005-01-01 00:00:00</td><td>41.0              </td><td>25.0              </td><td>33.0              </td><td>0.31               </td><td>0.0               </td><td>0.0  </td><td>32.0              </td><td>0.0  </td></tr>\n",
       "<tr><td>1      </td><td>1.0               </td><td>2005.0             </td><td>1.0    </td><td>6.0               </td><td>2220.0           </td><td>2045.0            </td><td>119.0            </td><td>2359.0            </td><td>UA             </td><td>544.0             </td><td>N325UA   </td><td>119.0              </td><td>134.0             </td><td>103.0            </td><td>80.0              </td><td>95.0             </td><td>ORD     </td><td>BOS   </td><td>867.0             </td><td>2.0              </td><td>14.0              </td><td>0.0                </td><td>                  </td><td>0.0                  </td><td>58.0              </td><td>0.0                </td><td>0.0               </td><td>0.0            </td><td>22.0               </td><td>YES           </td><td>YES           </td><td>2005-01-01 00:00:00</td><td>41.0              </td><td>25.0              </td><td>33.0              </td><td>0.31               </td><td>0.0               </td><td>0.0  </td><td>32.0              </td><td>0.0  </td></tr>\n",
       "<tr><td>2      </td><td>1.0               </td><td>2005.0             </td><td>1.0    </td><td>6.0               </td><td>1841.0           </td><td>1810.0            </td><td>2041.0           </td><td>2010.0            </td><td>UA             </td><td>545.0             </td><td>N325UA   </td><td>180.0              </td><td>180.0             </td><td>135.0            </td><td>31.0              </td><td>31.0             </td><td>BOS     </td><td>ORD   </td><td>867.0             </td><td>16.0             </td><td>29.0              </td><td>0.0                </td><td>                  </td><td>0.0                  </td><td>10.0              </td><td>0.0                </td><td>0.0               </td><td>0.0            </td><td>21.0               </td><td>YES           </td><td>YES           </td><td>2005-01-01 00:00:00</td><td>41.0              </td><td>25.0              </td><td>33.0              </td><td>0.31               </td><td>0.0               </td><td>0.0  </td><td>32.0              </td><td>0.0  </td></tr>\n",
       "<tr><td>3      </td><td>1.0               </td><td>2005.0             </td><td>1.0    </td><td>6.0               </td><td>2342.0           </td><td>2115.0            </td><td>151.0            </td><td>2319.0            </td><td>UA             </td><td>546.0             </td><td>N386UA   </td><td>69.0               </td><td>64.0              </td><td>42.0             </td><td>152.0             </td><td>147.0            </td><td>ORD     </td><td>DAY   </td><td>240.0             </td><td>7.0              </td><td>20.0              </td><td>0.0                </td><td>                  </td><td>0.0                  </td><td>7.0               </td><td>0.0                </td><td>5.0               </td><td>0.0            </td><td>140.0              </td><td>YES           </td><td>YES           </td><td>2005-01-01 00:00:00</td><td>41.0              </td><td>25.0              </td><td>33.0              </td><td>0.31               </td><td>0.0               </td><td>0.0  </td><td>32.0              </td><td>0.0  </td></tr>\n",
       "<tr><td>4      </td><td>1.0               </td><td>2005.0             </td><td>1.0    </td><td>6.0               </td><td>831.0            </td><td>835.0             </td><td>1034.0           </td><td>1052.0            </td><td>UA             </td><td>547.0             </td><td>N427UA   </td><td>183.0              </td><td>197.0             </td><td>164.0            </td><td>-18.0             </td><td>-4.0             </td><td>MIA     </td><td>ORD   </td><td>1197.0            </td><td>7.0              </td><td>12.0              </td><td>0.0                </td><td>                  </td><td>0.0                  </td><td>0.0               </td><td>0.0                </td><td>0.0               </td><td>0.0            </td><td>0.0                </td><td>NO            </td><td>NO            </td><td>2005-01-01 00:00:00</td><td>41.0              </td><td>25.0              </td><td>33.0              </td><td>0.31               </td><td>0.0               </td><td>0.0  </td><td>32.0              </td><td>0.0  </td></tr>\n",
       "<tr><td>5      </td><td>1.0               </td><td>2005.0             </td><td>1.0    </td><td>6.0               </td><td>1303.0           </td><td>1205.0            </td><td>1435.0           </td><td>1329.0            </td><td>UA             </td><td>547.0             </td><td>N849UA   </td><td>92.0               </td><td>84.0              </td><td>69.0             </td><td>66.0              </td><td>58.0             </td><td>ORD     </td><td>MSP   </td><td>334.0             </td><td>8.0              </td><td>15.0              </td><td>0.0                </td><td>                  </td><td>0.0                  </td><td>0.0               </td><td>0.0                </td><td>8.0               </td><td>0.0            </td><td>58.0               </td><td>YES           </td><td>YES           </td><td>2005-01-01 00:00:00</td><td>41.0              </td><td>25.0              </td><td>33.0              </td><td>0.31               </td><td>0.0               </td><td>0.0  </td><td>32.0              </td><td>0.0  </td></tr>\n",
       "<tr><td>6      </td><td>1.0               </td><td>2005.0             </td><td>1.0    </td><td>6.0               </td><td>2257.0           </td><td>2300.0            </td><td>415.0            </td><td>445.0             </td><td>UA             </td><td>552.0             </td><td>N420UA   </td><td>198.0              </td><td>225.0             </td><td>182.0            </td><td>-30.0             </td><td>-3.0             </td><td>SAN     </td><td>ORD   </td><td>1723.0            </td><td>4.0              </td><td>12.0              </td><td>0.0                </td><td>                  </td><td>0.0                  </td><td>0.0               </td><td>0.0                </td><td>0.0               </td><td>0.0            </td><td>0.0                </td><td>NO            </td><td>NO            </td><td>2005-01-01 00:00:00</td><td>41.0              </td><td>25.0              </td><td>33.0              </td><td>0.31               </td><td>0.0               </td><td>0.0  </td><td>32.0              </td><td>0.0  </td></tr>\n",
       "<tr><td>7      </td><td>1.0               </td><td>2005.0             </td><td>1.0    </td><td>6.0               </td><td>951.0            </td><td>945.0             </td><td>1104.0           </td><td>1055.0            </td><td>UA             </td><td>553.0             </td><td>N912UA   </td><td>133.0              </td><td>130.0             </td><td>96.0             </td><td>9.0               </td><td>6.0              </td><td>ATL     </td><td>ORD   </td><td>606.0             </td><td>6.0              </td><td>31.0              </td><td>0.0                </td><td>                  </td><td>0.0                  </td><td>0.0               </td><td>0.0                </td><td>0.0               </td><td>0.0            </td><td>0.0                </td><td>YES           </td><td>YES           </td><td>2005-01-01 00:00:00</td><td>41.0              </td><td>25.0              </td><td>33.0              </td><td>0.31               </td><td>0.0               </td><td>0.0  </td><td>32.0              </td><td>0.0  </td></tr>\n",
       "<tr><td>8      </td><td>1.0               </td><td>2005.0             </td><td>1.0    </td><td>6.0               </td><td>1213.0           </td><td>1215.0            </td><td>1344.0           </td><td>1353.0            </td><td>UA             </td><td>553.0             </td><td>N912UA   </td><td>91.0               </td><td>98.0              </td><td>73.0             </td><td>-9.0              </td><td>-2.0             </td><td>ORD     </td><td>OMA   </td><td>416.0             </td><td>3.0              </td><td>15.0              </td><td>0.0                </td><td>                  </td><td>0.0                  </td><td>0.0               </td><td>0.0                </td><td>0.0               </td><td>0.0            </td><td>0.0                </td><td>NO            </td><td>NO            </td><td>2005-01-01 00:00:00</td><td>41.0              </td><td>25.0              </td><td>33.0              </td><td>0.31               </td><td>0.0               </td><td>0.0  </td><td>32.0              </td><td>0.0  </td></tr>\n",
       "<tr><td>9      </td><td>1.0               </td><td>2005.0             </td><td>1.0    </td><td>6.0               </td><td>741.0            </td><td>740.0             </td><td>925.0            </td><td>905.0             </td><td>UA             </td><td>555.0             </td><td>N934UA   </td><td>164.0              </td><td>145.0             </td><td>129.0            </td><td>20.0              </td><td>1.0              </td><td>ALB     </td><td>ORD   </td><td>723.0             </td><td>9.0              </td><td>26.0              </td><td>0.0                </td><td>                  </td><td>0.0                  </td><td>0.0               </td><td>0.0                </td><td>20.0              </td><td>0.0            </td><td>0.0                </td><td>YES           </td><td>YES           </td><td>2005-01-01 00:00:00</td><td>41.0              </td><td>25.0              </td><td>33.0              </td><td>0.31               </td><td>0.0               </td><td>0.0  </td><td>32.0              </td><td>0.0  </td></tr>\n",
       "</tbody>\n",
       "</table>"
      ]
     },
     "metadata": {},
     "output_type": "display_data"
    }
   ],
   "source": [
    "ord_only_df_ohare_df.describe()"
   ]
  },
  {
   "cell_type": "markdown",
   "metadata": {},
   "source": [
    "#### To check correlation between data "
   ]
  },
  {
   "cell_type": "code",
   "execution_count": 18,
   "metadata": {},
   "outputs": [
    {
     "data": {
      "text/plain": [
       "pandas.core.frame.DataFrame"
      ]
     },
     "execution_count": 18,
     "metadata": {},
     "output_type": "execute_result"
    }
   ],
   "source": [
    "## change into pandas\n",
    "pd_df = ord_only_df_ohare_df.as_data_frame()"
   ]
  },
  {
   "cell_type": "code",
   "execution_count": 19,
   "metadata": {},
   "outputs": [
    {
     "data": {
      "text/html": [
       "<table>\n",
       "<thead>\n",
       "<tr><th style=\"text-align: right;\">  DepTime</th><th style=\"text-align: right;\">  CRSDepTime</th><th style=\"text-align: right;\">  ArrTime</th><th style=\"text-align: right;\">  CRSArrTime</th><th style=\"text-align: right;\">  ArrDelay</th><th style=\"text-align: right;\">  DepDelay</th><th>IsArrDelayed  </th><th>IsDepDelayed  </th></tr>\n",
       "</thead>\n",
       "<tbody>\n",
       "<tr><td style=\"text-align: right;\">     1704</td><td style=\"text-align: right;\">        1715</td><td style=\"text-align: right;\">     1919</td><td style=\"text-align: right;\">        1915</td><td style=\"text-align: right;\">         4</td><td style=\"text-align: right;\">       -11</td><td>YES           </td><td>NO            </td></tr>\n",
       "<tr><td style=\"text-align: right;\">     2220</td><td style=\"text-align: right;\">        2045</td><td style=\"text-align: right;\">      119</td><td style=\"text-align: right;\">        2359</td><td style=\"text-align: right;\">        80</td><td style=\"text-align: right;\">        95</td><td>YES           </td><td>YES           </td></tr>\n",
       "<tr><td style=\"text-align: right;\">     1841</td><td style=\"text-align: right;\">        1810</td><td style=\"text-align: right;\">     2041</td><td style=\"text-align: right;\">        2010</td><td style=\"text-align: right;\">        31</td><td style=\"text-align: right;\">        31</td><td>YES           </td><td>YES           </td></tr>\n",
       "<tr><td style=\"text-align: right;\">     2342</td><td style=\"text-align: right;\">        2115</td><td style=\"text-align: right;\">      151</td><td style=\"text-align: right;\">        2319</td><td style=\"text-align: right;\">       152</td><td style=\"text-align: right;\">       147</td><td>YES           </td><td>YES           </td></tr>\n",
       "<tr><td style=\"text-align: right;\">      831</td><td style=\"text-align: right;\">         835</td><td style=\"text-align: right;\">     1034</td><td style=\"text-align: right;\">        1052</td><td style=\"text-align: right;\">       -18</td><td style=\"text-align: right;\">        -4</td><td>NO            </td><td>NO            </td></tr>\n",
       "<tr><td style=\"text-align: right;\">     1303</td><td style=\"text-align: right;\">        1205</td><td style=\"text-align: right;\">     1435</td><td style=\"text-align: right;\">        1329</td><td style=\"text-align: right;\">        66</td><td style=\"text-align: right;\">        58</td><td>YES           </td><td>YES           </td></tr>\n",
       "<tr><td style=\"text-align: right;\">     2257</td><td style=\"text-align: right;\">        2300</td><td style=\"text-align: right;\">      415</td><td style=\"text-align: right;\">         445</td><td style=\"text-align: right;\">       -30</td><td style=\"text-align: right;\">        -3</td><td>NO            </td><td>NO            </td></tr>\n",
       "<tr><td style=\"text-align: right;\">      951</td><td style=\"text-align: right;\">         945</td><td style=\"text-align: right;\">     1104</td><td style=\"text-align: right;\">        1055</td><td style=\"text-align: right;\">         9</td><td style=\"text-align: right;\">         6</td><td>YES           </td><td>YES           </td></tr>\n",
       "<tr><td style=\"text-align: right;\">     1213</td><td style=\"text-align: right;\">        1215</td><td style=\"text-align: right;\">     1344</td><td style=\"text-align: right;\">        1353</td><td style=\"text-align: right;\">        -9</td><td style=\"text-align: right;\">        -2</td><td>NO            </td><td>NO            </td></tr>\n",
       "<tr><td style=\"text-align: right;\">      741</td><td style=\"text-align: right;\">         740</td><td style=\"text-align: right;\">      925</td><td style=\"text-align: right;\">         905</td><td style=\"text-align: right;\">        20</td><td style=\"text-align: right;\">         1</td><td>YES           </td><td>YES           </td></tr>\n",
       "</tbody>\n",
       "</table>"
      ]
     },
     "metadata": {},
     "output_type": "display_data"
    },
    {
     "data": {
      "text/plain": []
     },
     "execution_count": 19,
     "metadata": {},
     "output_type": "execute_result"
    }
   ],
   "source": [
    "# quick checking the information that data leaks into the model\n",
    "\n",
    "ord_only_df_ohare_df[['DepTime', 'CRSDepTime','ArrTime','CRSArrTime','ArrDelay','DepDelay','IsArrDelayed','IsDepDelayed']]"
   ]
  },
  {
   "cell_type": "code",
   "execution_count": 20,
   "metadata": {},
   "outputs": [
    {
     "name": "stdout",
     "output_type": "stream",
     "text": [
      "(13, 2)\n"
     ]
    },
    {
     "data": {
      "text/html": [
       "<table>\n",
       "<thead>\n",
       "<tr><th style=\"text-align: right;\">  WeatherDelay</th><th style=\"text-align: right;\">  Count</th></tr>\n",
       "</thead>\n",
       "<tbody>\n",
       "<tr><td style=\"text-align: right;\">             0</td><td style=\"text-align: right;\">   1074</td></tr>\n",
       "<tr><td style=\"text-align: right;\">             5</td><td style=\"text-align: right;\">      1</td></tr>\n",
       "<tr><td style=\"text-align: right;\">             8</td><td style=\"text-align: right;\">      1</td></tr>\n",
       "<tr><td style=\"text-align: right;\">             9</td><td style=\"text-align: right;\">      1</td></tr>\n",
       "<tr><td style=\"text-align: right;\">            10</td><td style=\"text-align: right;\">      1</td></tr>\n",
       "<tr><td style=\"text-align: right;\">            13</td><td style=\"text-align: right;\">      1</td></tr>\n",
       "<tr><td style=\"text-align: right;\">            14</td><td style=\"text-align: right;\">      1</td></tr>\n",
       "<tr><td style=\"text-align: right;\">            17</td><td style=\"text-align: right;\">      1</td></tr>\n",
       "<tr><td style=\"text-align: right;\">            20</td><td style=\"text-align: right;\">      1</td></tr>\n",
       "<tr><td style=\"text-align: right;\">            21</td><td style=\"text-align: right;\">      1</td></tr>\n",
       "<tr><td style=\"text-align: right;\">            22</td><td style=\"text-align: right;\">      2</td></tr>\n",
       "<tr><td style=\"text-align: right;\">            44</td><td style=\"text-align: right;\">      1</td></tr>\n",
       "<tr><td style=\"text-align: right;\">            59</td><td style=\"text-align: right;\">      1</td></tr>\n",
       "</tbody>\n",
       "</table>"
      ]
     },
     "metadata": {},
     "output_type": "display_data"
    },
    {
     "name": "stdout",
     "output_type": "stream",
     "text": [
      "\n"
     ]
    }
   ],
   "source": [
    "print(ord_only_df_ohare_df['WeatherDelay'].table().shape)\n",
    "print (ord_only_df_ohare_df['WeatherDelay'].table().head(13))"
   ]
  },
  {
   "cell_type": "markdown",
   "metadata": {},
   "source": [
    "The varaible 'WeatherDelay' is imbalanced and classification are not clear so not best varible to make the response"
   ]
  },
  {
   "cell_type": "code",
   "execution_count": 21,
   "metadata": {},
   "outputs": [
    {
     "name": "stdout",
     "output_type": "stream",
     "text": [
      "(2, 2)\n"
     ]
    },
    {
     "data": {
      "text/html": [
       "<table>\n",
       "<thead>\n",
       "<tr><th>IsArrDelayed  </th><th style=\"text-align: right;\">  Count</th></tr>\n",
       "</thead>\n",
       "<tbody>\n",
       "<tr><td>NO            </td><td style=\"text-align: right;\">    447</td></tr>\n",
       "<tr><td>YES           </td><td style=\"text-align: right;\">    640</td></tr>\n",
       "</tbody>\n",
       "</table>"
      ]
     },
     "metadata": {},
     "output_type": "display_data"
    },
    {
     "name": "stdout",
     "output_type": "stream",
     "text": [
      "\n"
     ]
    }
   ],
   "source": [
    "print(ord_only_df_ohare_df['IsArrDelayed'].table().shape)\n",
    "print (ord_only_df_ohare_df['IsArrDelayed'].table())"
   ]
  },
  {
   "cell_type": "markdown",
   "metadata": {},
   "source": [
    "The varaible 'IsArrDelayed' is fairly balanced and classification are clear thus, could be used as response variable."
   ]
  },
  {
   "cell_type": "code",
   "execution_count": 22,
   "metadata": {},
   "outputs": [
    {
     "name": "stdout",
     "output_type": "stream",
     "text": [
      "(2, 2)\n"
     ]
    },
    {
     "data": {
      "text/html": [
       "<table>\n",
       "<thead>\n",
       "<tr><th>IsDepDelayed  </th><th style=\"text-align: right;\">  Count</th></tr>\n",
       "</thead>\n",
       "<tbody>\n",
       "<tr><td>NO            </td><td style=\"text-align: right;\">    545</td></tr>\n",
       "<tr><td>YES           </td><td style=\"text-align: right;\">    542</td></tr>\n",
       "</tbody>\n",
       "</table>"
      ]
     },
     "metadata": {},
     "output_type": "display_data"
    },
    {
     "name": "stdout",
     "output_type": "stream",
     "text": [
      "\n"
     ]
    }
   ],
   "source": [
    "print(ord_only_df_ohare_df['IsDepDelayed'].table().shape)\n",
    "print (ord_only_df_ohare_df['IsDepDelayed'].table())"
   ]
  },
  {
   "cell_type": "code",
   "execution_count": 51,
   "metadata": {},
   "outputs": [
    {
     "data": {
      "image/png": "[encoded data removed]",
      "text/plain": [
       "<Figure size 1080x1080 with 2 Axes>"
      ]
     },
     "metadata": {
      "needs_background": "light"
     },
     "output_type": "display_data"
    }
   ],
   "source": [
    "import seaborn as sns\n",
    "corr = ord_only_df_ohare_df.as_data_frame().corr()\n",
    "fig, ax = plt.subplots(figsize=(15,15)) \n",
    "sns.heatmap(corr, \n",
    "            xticklabels=corr.columns.values,\n",
    "            yticklabels=corr.columns.values, \n",
    "           )\n",
    "plt.show()"
   ]
  },
  {
   "cell_type": "markdown",
   "metadata": {},
   "source": [
    "The variable 'IsDepDelayed' is fairly balanced and classification are clear thus, could be used as response variable.\n",
    "<br>\n",
    "Final information of this data flow ends with arrival to its destination, this is a good candidate to be target variable."
   ]
  },
  {
   "cell_type": "markdown",
   "metadata": {},
   "source": [
    "# Variable declaration"
   ]
  },
  {
   "cell_type": "code",
   "execution_count": 25,
   "metadata": {},
   "outputs": [],
   "source": [
    "# remove variable are correlated variables and also variable that are available only after the fact the flight is already taken place\n",
    "# wouldnt be avaiable if we want to predict the delay \n",
    "\n",
    "remove =['IsArrDelayed','IsDepDelayed', 'WeatherDelay','DepTime', 'ArrTime','ArrDelay','DepDelay',\n",
    "          'IsArrDelayed','IsDepDelayed','ActualElapsedTime', 'AirTime', 'ArrDelay', 'DepDelay',\n",
    "         'TaxiIn', 'TaxiOut', 'Cancelled', 'CancellationCode', 'Diverted', 'CarrierDelay',\n",
    "         'WeatherDelay', 'NASDelay', 'SecurityDelay', 'LateAircraftDelay']\n",
    "\n",
    "cat_features = ['DayofMonth', 'Month', 'Year', 'DayOfWeek', 'CRSDepTime', 'CRSArrTime', \n",
    "                'UniqueCarrier', 'FlightNum', 'TailNum', 'Origin', 'Dest']\n",
    "\n",
    "num_features = ['CRSElapsedTime','Distance','TmaxF', 'TminF', 'TmeanF', 'PrcpIn', \n",
    "                'SnowIn','CDD','HDD', 'GDD']\n",
    "\n",
    "predictors = [x for x in ord_only_df_ohare_df.columns if x not in remove]\n",
    "\n",
    "target = 'IsArrDelayed'"
   ]
  },
  {
   "cell_type": "code",
   "execution_count": 26,
   "metadata": {},
   "outputs": [],
   "source": [
    "ord_only_df_ohare_df[target]= ord_only_df_ohare_df[target].asfactor()\n",
    "\n",
    "\n",
    "# for x in num_features:\n",
    "#     ord_only_df_ohare_df[x] = ord_only_df_ohare_df[x].asnumeric()\n",
    "# for x in cat_features:\n",
    "#     ord_only_df_ohare_df[x] = ord_only_df_ohare_df[x].asfactor() "
   ]
  },
  {
   "cell_type": "code",
   "execution_count": 27,
   "metadata": {},
   "outputs": [
    {
     "data": {
      "text/plain": [
       "23"
      ]
     },
     "execution_count": 27,
     "metadata": {},
     "output_type": "execute_result"
    }
   ],
   "source": [
    "len(remove)"
   ]
  },
  {
   "cell_type": "code",
   "execution_count": 28,
   "metadata": {},
   "outputs": [],
   "source": [
    "#ord_only_df_ohare_df.describe()"
   ]
  },
  {
   "cell_type": "markdown",
   "metadata": {},
   "source": [
    "# Building the GLM model"
   ]
  },
  {
   "cell_type": "code",
   "execution_count": 29,
   "metadata": {},
   "outputs": [],
   "source": [
    " # spliting the data\n",
    "train, valid = ord_only_df_ohare_df.split_frame([0.8], seed=1234)"
   ]
  },
  {
   "cell_type": "code",
   "execution_count": 48,
   "metadata": {},
   "outputs": [
    {
     "name": "stdout",
     "output_type": "stream",
     "text": [
      "glm Model Build progress: |███████████████████████████████████████████████| 100%\n"
     ]
    }
   ],
   "source": [
    "glm_model = H2OGeneralizedLinearEstimator(family= \"binomial\", \n",
    "                                          lambda_ = 0, \n",
    "                                          remove_collinear_columns = True,\n",
    "                                          compute_p_values = True,\n",
    "                                          seed =1234)\n",
    "glm_model.train(predictors, \n",
    "                target , \n",
    "                training_frame = train,\n",
    "                validation_frame = valid)"
   ]
  },
  {
   "cell_type": "code",
   "execution_count": 53,
   "metadata": {},
   "outputs": [
    {
     "name": "stdout",
     "output_type": "stream",
     "text": [
      "Coefficients: glm coefficients\n",
      "\n"
     ]
    },
    {
     "data": {
      "text/html": [
       "<div style=\"overflow:auto\"><table style=\"width:50%\"><tr><td><b>names</b></td>\n",
       "<td><b>coefficients</b></td>\n",
       "<td><b>std_error</b></td>\n",
       "<td><b>z_value</b></td>\n",
       "<td><b>p_value</b></td>\n",
       "<td><b>standardized_coefficients</b></td></tr>\n",
       "<tr><td>Intercept</td>\n",
       "<td>-10.8979011</td>\n",
       "<td>26.0966686</td>\n",
       "<td>-0.4175974</td>\n",
       "<td>0.6762415</td>\n",
       "<td>1.6914891</td></tr>\n",
       "<tr><td>TailNum.-N913<0xE5></td>\n",
       "<td>0.0</td>\n",
       "<td>nan</td>\n",
       "<td>nan</td>\n",
       "<td>nan</td>\n",
       "<td>0.0</td></tr>\n",
       "<tr><td>TailNum.-N918<0xE5></td>\n",
       "<td>0.0</td>\n",
       "<td>nan</td>\n",
       "<td>nan</td>\n",
       "<td>nan</td>\n",
       "<td>0.0</td></tr>\n",
       "<tr><td>TailNum.-N919<0xE5></td>\n",
       "<td>0.0</td>\n",
       "<td>nan</td>\n",
       "<td>nan</td>\n",
       "<td>nan</td>\n",
       "<td>0.0</td></tr>\n",
       "<tr><td>TailNum.-N920<0xE5></td>\n",
       "<td>0.0</td>\n",
       "<td>nan</td>\n",
       "<td>nan</td>\n",
       "<td>nan</td>\n",
       "<td>0.0</td></tr>\n",
       "<tr><td>---</td>\n",
       "<td>---</td>\n",
       "<td>---</td>\n",
       "<td>---</td>\n",
       "<td>---</td>\n",
       "<td>---</td></tr>\n",
       "<tr><td>TminF</td>\n",
       "<td>0.0436745</td>\n",
       "<td>0.0222872</td>\n",
       "<td>1.9596252</td>\n",
       "<td>0.0500396</td>\n",
       "<td>0.4830778</td></tr>\n",
       "<tr><td>TmeanF</td>\n",
       "<td>0.0</td>\n",
       "<td>nan</td>\n",
       "<td>nan</td>\n",
       "<td>nan</td>\n",
       "<td>0.0</td></tr>\n",
       "<tr><td>PrcpIn</td>\n",
       "<td>4.1503523</td>\n",
       "<td>1.0333550</td>\n",
       "<td>4.0163856</td>\n",
       "<td>0.0000591</td>\n",
       "<td>0.9391703</td></tr>\n",
       "<tr><td>SnowIn</td>\n",
       "<td>0.3104995</td>\n",
       "<td>0.1218902</td>\n",
       "<td>2.5473699</td>\n",
       "<td>0.0108538</td>\n",
       "<td>0.5610915</td></tr>\n",
       "<tr><td>HDD</td>\n",
       "<td>0.0</td>\n",
       "<td>nan</td>\n",
       "<td>nan</td>\n",
       "<td>nan</td>\n",
       "<td>0.0</td></tr></table></div>"
      ],
      "text/plain": [
       "names                coefficients         std_error             z_value               p_value                 standardized_coefficients\n",
       "-------------------  -------------------  --------------------  --------------------  ----------------------  ---------------------------\n",
       "Intercept            -10.897901146249481  26.09666864583865     -0.41759740655584593  0.6762414932640675      1.6914890563767753\n",
       "TailNum.-N913<0xE5>  0.0                  nan                   nan                   nan                     0.0\n",
       "TailNum.-N918<0xE5>  0.0                  nan                   nan                   nan                     0.0\n",
       "TailNum.-N919<0xE5>  0.0                  nan                   nan                   nan                     0.0\n",
       "TailNum.-N920<0xE5>  0.0                  nan                   nan                   nan                     0.0\n",
       "---                  ---                  ---                   ---                   ---                     ---\n",
       "TminF                0.04367448562340689  0.022287162137903806  1.9596252476276301    0.05003960815093833     0.48307782306601504\n",
       "TmeanF               0.0                  nan                   nan                   nan                     0.0\n",
       "PrcpIn               4.150352257825434    1.0333550280334138    4.016385603430026     5.9097530448637414e-05  0.9391703199051985\n",
       "SnowIn               0.3104995329633816   0.12189023955540029   2.5473699460755967    0.010853830164548106    0.5610915278350892\n",
       "HDD                  0.0                  nan                   nan                   nan                     0.0"
      ]
     },
     "metadata": {},
     "output_type": "display_data"
    },
    {
     "name": "stdout",
     "output_type": "stream",
     "text": [
      "\n",
      "See the whole table with table.as_data_frame()\n"
     ]
    },
    {
     "data": {
      "text/plain": []
     },
     "execution_count": 53,
     "metadata": {},
     "output_type": "execute_result"
    }
   ],
   "source": [
    "glm_model._model_json['output']['coefficients_table']"
   ]
  },
  {
   "cell_type": "code",
   "execution_count": 54,
   "metadata": {},
   "outputs": [
    {
     "data": {
      "text/plain": [
       "0.9364759602471124"
      ]
     },
     "execution_count": 54,
     "metadata": {},
     "output_type": "execute_result"
    }
   ],
   "source": [
    "# model auc on training set\n",
    "glm_model.auc(valid = False)"
   ]
  },
  {
   "cell_type": "code",
   "execution_count": 55,
   "metadata": {},
   "outputs": [
    {
     "data": {
      "text/plain": [
       "0.6558570198105081"
      ]
     },
     "execution_count": 55,
     "metadata": {},
     "output_type": "execute_result"
    }
   ],
   "source": [
    "# model auc on validation set\n",
    "glm_model.auc(valid = True)"
   ]
  },
  {
   "cell_type": "markdown",
   "metadata": {},
   "source": [
    "### 8. Provide some insight on the resulting model which can be a classification or regression model."
   ]
  },
  {
   "cell_type": "markdown",
   "metadata": {},
   "source": [
    "Model is over fitted (model captured the noise of the training data) as we can see AUC on the training set is high whereas <br>\n",
    "the validation AUC significantly low, comparatively. We can avoid this by training the model on more data. Model needs to <br>\n",
    "be built with optimal hyper parameters which can be achieve by performing grid search.  "
   ]
  },
  {
   "cell_type": "code",
   "execution_count": 47,
   "metadata": {},
   "outputs": [
    {
     "data": {
      "text/html": [
       "<div>\n",
       "<style scoped>\n",
       "    .dataframe tbody tr th:only-of-type {\n",
       "        vertical-align: middle;\n",
       "    }\n",
       "\n",
       "    .dataframe tbody tr th {\n",
       "        vertical-align: top;\n",
       "    }\n",
       "\n",
       "    .dataframe thead th {\n",
       "        text-align: right;\n",
       "    }\n",
       "</style>\n",
       "<table border=\"1\" class=\"dataframe\">\n",
       "  <thead>\n",
       "    <tr style=\"text-align: right;\">\n",
       "      <th></th>\n",
       "      <th>threshold</th>\n",
       "      <th>f1</th>\n",
       "      <th>f2</th>\n",
       "      <th>f0point5</th>\n",
       "      <th>accuracy</th>\n",
       "      <th>precision</th>\n",
       "      <th>recall</th>\n",
       "      <th>specificity</th>\n",
       "      <th>absolute_mcc</th>\n",
       "      <th>min_per_class_accuracy</th>\n",
       "      <th>mean_per_class_accuracy</th>\n",
       "      <th>tns</th>\n",
       "      <th>fns</th>\n",
       "      <th>fps</th>\n",
       "      <th>tps</th>\n",
       "      <th>tnr</th>\n",
       "      <th>fnr</th>\n",
       "      <th>fpr</th>\n",
       "      <th>tpr</th>\n",
       "      <th>idx</th>\n",
       "    </tr>\n",
       "  </thead>\n",
       "  <tbody>\n",
       "    <tr>\n",
       "      <th>0</th>\n",
       "      <td>1.0</td>\n",
       "      <td>0.129496</td>\n",
       "      <td>0.085551</td>\n",
       "      <td>0.266272</td>\n",
       "      <td>0.447489</td>\n",
       "      <td>0.900000</td>\n",
       "      <td>0.069767</td>\n",
       "      <td>0.988889</td>\n",
       "      <td>0.138248</td>\n",
       "      <td>0.069767</td>\n",
       "      <td>0.529328</td>\n",
       "      <td>89.0</td>\n",
       "      <td>120.0</td>\n",
       "      <td>1.0</td>\n",
       "      <td>9.0</td>\n",
       "      <td>0.988889</td>\n",
       "      <td>0.930233</td>\n",
       "      <td>0.011111</td>\n",
       "      <td>0.069767</td>\n",
       "      <td>0</td>\n",
       "    </tr>\n",
       "    <tr>\n",
       "      <th>1</th>\n",
       "      <td>1.0</td>\n",
       "      <td>0.154930</td>\n",
       "      <td>0.103970</td>\n",
       "      <td>0.303867</td>\n",
       "      <td>0.452055</td>\n",
       "      <td>0.846154</td>\n",
       "      <td>0.085271</td>\n",
       "      <td>0.977778</td>\n",
       "      <td>0.131277</td>\n",
       "      <td>0.085271</td>\n",
       "      <td>0.531525</td>\n",
       "      <td>88.0</td>\n",
       "      <td>118.0</td>\n",
       "      <td>2.0</td>\n",
       "      <td>11.0</td>\n",
       "      <td>0.977778</td>\n",
       "      <td>0.914729</td>\n",
       "      <td>0.022222</td>\n",
       "      <td>0.085271</td>\n",
       "      <td>1</td>\n",
       "    </tr>\n",
       "    <tr>\n",
       "      <th>2</th>\n",
       "      <td>1.0</td>\n",
       "      <td>0.153846</td>\n",
       "      <td>0.103774</td>\n",
       "      <td>0.297297</td>\n",
       "      <td>0.447489</td>\n",
       "      <td>0.785714</td>\n",
       "      <td>0.085271</td>\n",
       "      <td>0.966667</td>\n",
       "      <td>0.104462</td>\n",
       "      <td>0.085271</td>\n",
       "      <td>0.525969</td>\n",
       "      <td>87.0</td>\n",
       "      <td>118.0</td>\n",
       "      <td>3.0</td>\n",
       "      <td>11.0</td>\n",
       "      <td>0.966667</td>\n",
       "      <td>0.914729</td>\n",
       "      <td>0.033333</td>\n",
       "      <td>0.085271</td>\n",
       "      <td>2</td>\n",
       "    </tr>\n",
       "    <tr>\n",
       "      <th>3</th>\n",
       "      <td>1.0</td>\n",
       "      <td>0.165517</td>\n",
       "      <td>0.112782</td>\n",
       "      <td>0.310881</td>\n",
       "      <td>0.447489</td>\n",
       "      <td>0.750000</td>\n",
       "      <td>0.093023</td>\n",
       "      <td>0.955556</td>\n",
       "      <td>0.091845</td>\n",
       "      <td>0.093023</td>\n",
       "      <td>0.524289</td>\n",
       "      <td>86.0</td>\n",
       "      <td>117.0</td>\n",
       "      <td>4.0</td>\n",
       "      <td>12.0</td>\n",
       "      <td>0.955556</td>\n",
       "      <td>0.906977</td>\n",
       "      <td>0.044444</td>\n",
       "      <td>0.093023</td>\n",
       "      <td>3</td>\n",
       "    </tr>\n",
       "    <tr>\n",
       "      <th>4</th>\n",
       "      <td>1.0</td>\n",
       "      <td>0.164384</td>\n",
       "      <td>0.112570</td>\n",
       "      <td>0.304569</td>\n",
       "      <td>0.442922</td>\n",
       "      <td>0.705882</td>\n",
       "      <td>0.093023</td>\n",
       "      <td>0.944444</td>\n",
       "      <td>0.068893</td>\n",
       "      <td>0.093023</td>\n",
       "      <td>0.518734</td>\n",
       "      <td>85.0</td>\n",
       "      <td>117.0</td>\n",
       "      <td>5.0</td>\n",
       "      <td>12.0</td>\n",
       "      <td>0.944444</td>\n",
       "      <td>0.906977</td>\n",
       "      <td>0.055556</td>\n",
       "      <td>0.093023</td>\n",
       "      <td>4</td>\n",
       "    </tr>\n",
       "  </tbody>\n",
       "</table>\n",
       "</div>"
      ],
      "text/plain": [
       "   threshold        f1        f2  f0point5  accuracy  precision    recall  \\\n",
       "0        1.0  0.129496  0.085551  0.266272  0.447489   0.900000  0.069767   \n",
       "1        1.0  0.154930  0.103970  0.303867  0.452055   0.846154  0.085271   \n",
       "2        1.0  0.153846  0.103774  0.297297  0.447489   0.785714  0.085271   \n",
       "3        1.0  0.165517  0.112782  0.310881  0.447489   0.750000  0.093023   \n",
       "4        1.0  0.164384  0.112570  0.304569  0.442922   0.705882  0.093023   \n",
       "\n",
       "   specificity  absolute_mcc  min_per_class_accuracy  mean_per_class_accuracy  \\\n",
       "0     0.988889      0.138248                0.069767                 0.529328   \n",
       "1     0.977778      0.131277                0.085271                 0.531525   \n",
       "2     0.966667      0.104462                0.085271                 0.525969   \n",
       "3     0.955556      0.091845                0.093023                 0.524289   \n",
       "4     0.944444      0.068893                0.093023                 0.518734   \n",
       "\n",
       "    tns    fns  fps   tps       tnr       fnr       fpr       tpr  idx  \n",
       "0  89.0  120.0  1.0   9.0  0.988889  0.930233  0.011111  0.069767    0  \n",
       "1  88.0  118.0  2.0  11.0  0.977778  0.914729  0.022222  0.085271    1  \n",
       "2  87.0  118.0  3.0  11.0  0.966667  0.914729  0.033333  0.085271    2  \n",
       "3  86.0  117.0  4.0  12.0  0.955556  0.906977  0.044444  0.093023    3  \n",
       "4  85.0  117.0  5.0  12.0  0.944444  0.906977  0.055556  0.093023    4  "
      ]
     },
     "execution_count": 47,
     "metadata": {},
     "output_type": "execute_result"
    }
   ],
   "source": [
    "## code below we can download confusion matrix and other computed statistic from the h2oflow itself and save it as pandas dataframe \n",
    "## we can create custom function to calculate our own error rates\n",
    "\n",
    "tt = glm_model._model_json[\"output\"][\"validation_metrics\"]['thresholds_and_metric_scores'].as_data_frame()\n",
    "tt.head(5)"
   ]
  },
  {
   "cell_type": "code",
   "execution_count": 56,
   "metadata": {},
   "outputs": [
    {
     "name": "stdout",
     "output_type": "stream",
     "text": [
      "H2O session _sid_be86 closed.\n"
     ]
    }
   ],
   "source": [
    "#h2o.cluster().shutdown()"
   ]
  },
  {
   "cell_type": "markdown",
   "metadata": {},
   "source": [
    "#### below was EDA on table to explore more on data leakage. "
   ]
  },
  {
   "cell_type": "code",
   "execution_count": 48,
   "metadata": {},
   "outputs": [],
   "source": [
    "# df = airport_df[['IsArrDelayed', 'IsDepDelayed']]\n",
    "# print ('Total size',df.shape)\n",
    "\n",
    "# print ('when both arrival and departure are same', df[(df['IsArrDelayed']==df['IsDepDelayed'])].shape,\n",
    "#        '\\n' 'when both delayed',df[(df['IsArrDelayed']=='YES') & (df['IsDepDelayed']=='YES')].shape,\n",
    "#        '\\n' 'when arrival not delayed and departure delayed',df[(df['IsArrDelayed']=='NO') & (df['IsDepDelayed']=='YES')].shape,\n",
    "#        '\\n' 'when arrival delayed and departure not delayed',df[(df['IsArrDelayed']=='YES') & (df['IsDepDelayed']=='NO')].shape)"
   ]
  },
  {
   "cell_type": "code",
   "execution_count": null,
   "metadata": {},
   "outputs": [],
   "source": []
  }
 ],
 "metadata": {
  "kernelspec": {
   "display_name": "Python 3",
   "language": "python",
   "name": "python3"
  },
  "language_info": {
   "codemirror_mode": {
    "name": "ipython",
    "version": 3
   },
   "file_extension": ".py",
   "mimetype": "text/x-python",
   "name": "python",
   "nbconvert_exporter": "python",
   "pygments_lexer": "ipython3",
   "version": "3.7.1"
  }
 },
 "nbformat": 4,
 "nbformat_minor": 2
}
