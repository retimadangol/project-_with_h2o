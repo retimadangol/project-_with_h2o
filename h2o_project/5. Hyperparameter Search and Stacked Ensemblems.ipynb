{
 "cells": [
  {
   "cell_type": "markdown",
   "metadata": {},
   "source": [
    "## All Imports for the script"
   ]
  },
  {
   "cell_type": "code",
   "execution_count": 1,
   "metadata": {},
   "outputs": [],
   "source": [
    "import json\n",
    "\n",
    "import h2o\n",
    "from h2o.grid.grid_search import H2OGridSearch\n",
    "from h2o.estimators.glm import H2OGeneralizedLinearEstimator\n",
    "from h2o.estimators.gbm import H2OGradientBoostingEstimator\n",
    "from h2o.estimators.deeplearning import H2ODeepLearningEstimator\n",
    "from h2o.estimators.stackedensemble import H2OStackedEnsembleEstimator\n",
    "import warnings\n",
    "warnings.filterwarnings('ignore')\n",
    "import seaborn as sns\n",
    "import pandas as pd"
   ]
  },
  {
   "cell_type": "code",
   "execution_count": 2,
   "metadata": {},
   "outputs": [],
   "source": [
    "# CONSTANT DECLARATIONS\n",
    "AIRLINE_DATA_PATH = \"C://repository/h2o_project/h2o_data/allyears2k.csv\""
   ]
  },
  {
   "cell_type": "markdown",
   "metadata": {},
   "source": [
    "## Initiating h2o instance"
   ]
  },
  {
   "cell_type": "code",
   "execution_count": 3,
   "metadata": {},
   "outputs": [
    {
     "name": "stdout",
     "output_type": "stream",
     "text": [
      "Checking whether there is an H2O instance running at http://localhost:54321 ..... not found.\n",
      "Attempting to start a local H2O server...\n",
      "; Java HotSpot(TM) Client VM (build 25.201-b09, mixed mode, sharing)\n",
      "  Starting server from c:\\programdata\\miniconda3\\lib\\site-packages\\h2o\\backend\\bin\\h2o.jar\n",
      "  Ice root: C:\\Users\\retim\\AppData\\Local\\Temp\\tmpt781x5xs\n",
      "  JVM stdout: C:\\Users\\retim\\AppData\\Local\\Temp\\tmpt781x5xs\\h2o_retim_started_from_python.out\n",
      "  JVM stderr: C:\\Users\\retim\\AppData\\Local\\Temp\\tmpt781x5xs\\h2o_retim_started_from_python.err\n",
      "  Server is running at http://127.0.0.1:54321\n",
      "Connecting to H2O server at http://127.0.0.1:54321 ... successful.\n"
     ]
    },
    {
     "data": {
      "text/html": [
       "<div style=\"overflow:auto\"><table style=\"width:50%\"><tr><td>H2O cluster uptime:</td>\n",
       "<td>01 secs</td></tr>\n",
       "<tr><td>H2O cluster timezone:</td>\n",
       "<td>America/Denver</td></tr>\n",
       "<tr><td>H2O data parsing timezone:</td>\n",
       "<td>UTC</td></tr>\n",
       "<tr><td>H2O cluster version:</td>\n",
       "<td>3.24.0.1</td></tr>\n",
       "<tr><td>H2O cluster version age:</td>\n",
       "<td>13 days </td></tr>\n",
       "<tr><td>H2O cluster name:</td>\n",
       "<td>H2O_from_python_retim_ubtal2</td></tr>\n",
       "<tr><td>H2O cluster total nodes:</td>\n",
       "<td>1</td></tr>\n",
       "<tr><td>H2O cluster free memory:</td>\n",
       "<td>989 Mb</td></tr>\n",
       "<tr><td>H2O cluster total cores:</td>\n",
       "<td>6</td></tr>\n",
       "<tr><td>H2O cluster allowed cores:</td>\n",
       "<td>6</td></tr>\n",
       "<tr><td>H2O cluster status:</td>\n",
       "<td>accepting new members, healthy</td></tr>\n",
       "<tr><td>H2O connection url:</td>\n",
       "<td>http://127.0.0.1:54321</td></tr>\n",
       "<tr><td>H2O connection proxy:</td>\n",
       "<td>None</td></tr>\n",
       "<tr><td>H2O internal security:</td>\n",
       "<td>False</td></tr>\n",
       "<tr><td>H2O API Extensions:</td>\n",
       "<td>Amazon S3, Algos, AutoML, Core V3, Core V4</td></tr>\n",
       "<tr><td>Python version:</td>\n",
       "<td>3.7.1 final</td></tr></table></div>"
      ],
      "text/plain": [
       "--------------------------  ------------------------------------------\n",
       "H2O cluster uptime:         01 secs\n",
       "H2O cluster timezone:       America/Denver\n",
       "H2O data parsing timezone:  UTC\n",
       "H2O cluster version:        3.24.0.1\n",
       "H2O cluster version age:    13 days\n",
       "H2O cluster name:           H2O_from_python_retim_ubtal2\n",
       "H2O cluster total nodes:    1\n",
       "H2O cluster free memory:    989 Mb\n",
       "H2O cluster total cores:    6\n",
       "H2O cluster allowed cores:  6\n",
       "H2O cluster status:         accepting new members, healthy\n",
       "H2O connection url:         http://127.0.0.1:54321\n",
       "H2O connection proxy:\n",
       "H2O internal security:      False\n",
       "H2O API Extensions:         Amazon S3, Algos, AutoML, Core V3, Core V4\n",
       "Python version:             3.7.1 final\n",
       "--------------------------  ------------------------------------------"
      ]
     },
     "metadata": {},
     "output_type": "display_data"
    }
   ],
   "source": [
    "h2o.init(max_mem_size=\"1G\" )"
   ]
  },
  {
   "cell_type": "markdown",
   "metadata": {},
   "source": [
    "## 1. Import the Airlines dataset"
   ]
  },
  {
   "cell_type": "code",
   "execution_count": 4,
   "metadata": {},
   "outputs": [
    {
     "name": "stdout",
     "output_type": "stream",
     "text": [
      "Parse progress: |█████████████████████████████████████████████████████████| 100%\n"
     ]
    }
   ],
   "source": [
    "airline_df = h2o.import_file(AIRLINE_DATA_PATH)"
   ]
  },
  {
   "cell_type": "markdown",
   "metadata": {},
   "source": [
    "## 2. Split the data set into a train (80%) and test set (20%)"
   ]
  },
  {
   "cell_type": "code",
   "execution_count": 5,
   "metadata": {},
   "outputs": [],
   "source": [
    "train, valid = airline_df.split_frame(ratios = [.80,], seed = 1234)"
   ]
  },
  {
   "cell_type": "markdown",
   "metadata": {},
   "source": [
    "## Variable description"
   ]
  },
  {
   "cell_type": "code",
   "execution_count": 6,
   "metadata": {},
   "outputs": [],
   "source": [
    "remove =['IsArrDelayed','IsDepDelayed', 'WeatherDelay','DepTime', 'ArrTime','ArrDelay','DepDelay',\n",
    "          'IsArrDelayed','IsDepDelayed','ActualElapsedTime', 'AirTime', 'ArrDelay', 'DepDelay',\n",
    "         'TaxiIn', 'TaxiOut', 'Cancelled', 'CancellationCode', 'Diverted', 'CarrierDelay',\n",
    "         'WeatherDelay', 'NASDelay', 'SecurityDelay', 'LateAircraftDelay']\n",
    "\n",
    "predictors = [x for x in airline_df.columns if x not in remove]\n",
    "\n",
    "target = 'IsArrDelayed'\n",
    "\n",
    "airline_df[target] = airline_df[target].asfactor()"
   ]
  },
  {
   "cell_type": "markdown",
   "metadata": {},
   "source": [
    "# GLM Search Space"
   ]
  },
  {
   "cell_type": "code",
   "execution_count": 6,
   "metadata": {},
   "outputs": [
    {
     "name": "stdout",
     "output_type": "stream",
     "text": [
      "glm Grid Build progress: |████████████████████████████████████████████████| 100%\n"
     ]
    }
   ],
   "source": [
    "hyper_parameters = {'alpha': [0.01,1], \n",
    "                    'lambda': [0, 1e-7, 1e-5, 1e-3, 1e-1]}\n",
    "search_criteria = {\"strategy\": \"RandomDiscrete\",\n",
    "                   \"max_models\": 5,\n",
    "                   \"seed\": 1234}\n",
    "\n",
    "glm_grid1 = H2OGridSearch(H2OGeneralizedLinearEstimator(family='binomial'), \n",
    "                          grid_id = 'glm_grid1',\n",
    "                          hyper_params = hyper_parameters,\n",
    "                          search_criteria = search_criteria\n",
    "                         )\n",
    "glm_grid1.train(x = predictors, \n",
    "                y = target,\n",
    "                training_frame = train,\n",
    "                validation_frame = valid,\n",
    "                seed = 1234,\n",
    "                nfolds = 5,\n",
    "                fold_assignment = \"modulo\",\n",
    "                keep_cross_validation_predictions = True)"
   ]
  },
  {
   "cell_type": "code",
   "execution_count": 7,
   "metadata": {},
   "outputs": [
    {
     "name": "stdout",
     "output_type": "stream",
     "text": [
      "0.6578248648028588\n"
     ]
    }
   ],
   "source": [
    "glm_grid1.get_grid(sort_by='auc',\n",
    "                   decreasing=True)\n",
    "glm_gridperf1 = glm_grid1.get_grid(sort_by='auc',decreasing=True)\n",
    "\n",
    "\n",
    "# Grab the top GBM model, chosen by validation AUC\n",
    "best_glm1 = glm_gridperf1.models[0]\n",
    "print(best_glm1.auc(valid=True))\n",
    "\n",
    "# save the hyper parameters as json file for later use\n",
    "\n",
    "params = best_glm1.actual_params\n",
    "with open(\"c://repository/h2o_project/grid_hyperparams_glm.json\", 'w') as json_file:\n",
    "    json_file.write(json.dumps(params, indent=4))"
   ]
  },
  {
   "cell_type": "markdown",
   "metadata": {},
   "source": [
    "# GBM Search Space"
   ]
  },
  {
   "cell_type": "code",
   "execution_count": 8,
   "metadata": {},
   "outputs": [
    {
     "name": "stdout",
     "output_type": "stream",
     "text": [
      "gbm Grid Build progress: |████████████████████████████████████████████████| 100%\n"
     ]
    }
   ],
   "source": [
    "gbm_params1 = {'learn_rate': [0.01, 0.03],\n",
    "                'max_depth': [3,4, 5,6, 9],\n",
    "                'sample_rate': [0.7, 0.8,0.9, 1.0],\n",
    "                'col_sample_rate': [0.2, 0.3,0.4, 0.5,0.7, 0.8]}\n",
    "\n",
    "gbm_search_criteria = {\"strategy\": \"RandomDiscrete\",\n",
    "                       \"max_models\": 5,\n",
    "                       \"seed\": 1234}\n",
    "\n",
    "gbm_grid1 = H2OGridSearch(model = H2OGradientBoostingEstimator,\n",
    "                              grid_id = 'gbm_grid1',\n",
    "                              hyper_params = gbm_params1,\n",
    "                              search_criteria = gbm_search_criteria)\n",
    "\n",
    "gbm_grid1.train(x = predictors, \n",
    "                y = target,\n",
    "                training_frame = train,\n",
    "                validation_frame = valid,\n",
    "                ntrees = 100,\n",
    "                seed = 1234,\n",
    "                nfolds = 5,\n",
    "                fold_assignment = \"modulo\",\n",
    "                keep_cross_validation_predictions = True)"
   ]
  },
  {
   "cell_type": "code",
   "execution_count": 9,
   "metadata": {},
   "outputs": [
    {
     "data": {
      "text/plain": [
       "0.7270300017365988"
      ]
     },
     "execution_count": 9,
     "metadata": {},
     "output_type": "execute_result"
    }
   ],
   "source": [
    "# Get the grid results, sorted by validation AUC\n",
    "gbm_gridperf1 = gbm_grid1.get_grid(sort_by='auc',\n",
    "                                       decreasing=True)\n",
    "# Grab the top GBM model, chosen by validation AUC\n",
    "best_gbm1 = gbm_gridperf1.models[0]\n",
    "# Now let's evaluate the model performance on a test set\n",
    "best_gbm1.auc(valid = True)"
   ]
  },
  {
   "cell_type": "code",
   "execution_count": 10,
   "metadata": {},
   "outputs": [],
   "source": [
    "# save the hyper parameters as json file for later use\n",
    "params = best_gbm1.actual_params\n",
    "with open(\"c://repository/h2o_project/grid_hyperparams_GBM.json\", 'w') as json_file:\n",
    "    json_file.write(json.dumps(params, indent=4))"
   ]
  },
  {
   "cell_type": "markdown",
   "metadata": {},
   "source": [
    "# Deep Learning Search Space"
   ]
  },
  {
   "cell_type": "code",
   "execution_count": 11,
   "metadata": {},
   "outputs": [],
   "source": [
    "# creating function as input for hidden layer for one input at time \n",
    "# to iterate through hidden layer list [10,10]),[20, 15],[50,50,50]\n",
    "def deep_learning_grid(hidden_lst):\n",
    "    dl_params = {\"activation\" : [\"rectifier\",\"rectifier_with_dropout\"],\n",
    "                 \"hidden\" : hidden_lst,\n",
    "                \"l1\" : [0, 1e-3, 1e-5],\n",
    "                \"l2\": [0, 1e-3, 1e-5]}\n",
    "    search_criteria ={ \"strategy\": \"RandomDiscrete\",\n",
    "                        \"max_models\" :5, \n",
    "                        \"seed\" : 123}\n",
    "    dl_grid1 = H2OGridSearch(model = H2ODeepLearningEstimator,\n",
    "                                  grid_id = 'dl_grid1',\n",
    "                                  hyper_params = dl_params,\n",
    "                                  search_criteria = search_criteria)\n",
    "    dl_grid1.train(x = predictors,\n",
    "                 y= target,\n",
    "                 training_frame = train,\n",
    "                 validation_frame = valid,\n",
    "                 seed = 123,\n",
    "                 nfolds = 5,\n",
    "                 fold_assignment = \"modulo\",\n",
    "                 keep_cross_validation_predictions = True)\n",
    "    return dl_grid1"
   ]
  },
  {
   "cell_type": "code",
   "execution_count": 12,
   "metadata": {},
   "outputs": [
    {
     "name": "stdout",
     "output_type": "stream",
     "text": [
      "deeplearning Grid Build progress: |███████████████████████████████████████| 100%\n",
      "deeplearning Grid Build progress: |███████████████████████████████████████| 100%\n",
      "deeplearning Grid Build progress: |███████████████████████████████████████| 100%\n"
     ]
    }
   ],
   "source": [
    "# creating grid will all the given hidden paramters list\n",
    "dl_grid_perf_10_10 = deep_learning_grid([10,10])\n",
    "dl_grid_perf_20_15 = deep_learning_grid([20, 15])\n",
    "dl_grid_perf_50_50_50 = deep_learning_grid([50,50,50])"
   ]
  },
  {
   "cell_type": "code",
   "execution_count": 13,
   "metadata": {},
   "outputs": [],
   "source": [
    "# Get the grid results, sorted by validation AUC\n",
    "dl_grid_10 = dl_grid_perf_10_10.get_grid(sort_by = 'auc', decreasing = True)\n",
    "dl_grid_20 = dl_grid_perf_20_15.get_grid(sort_by = 'auc', decreasing = True)\n",
    "dl_grid_50 = dl_grid_perf_50_50_50.get_grid(sort_by = 'auc', decreasing = True)\n",
    "\n",
    "\n",
    "# Grab the top GBM model, chosen by validation AUC for each hidden layer top most\n",
    "\n",
    "best_dl_grid_10 = dl_grid_10.models[0]\n",
    "best_dl_grid_20 = dl_grid_20.models[0]\n",
    "best_dl_grid_50 = dl_grid_50.models[0]"
   ]
  },
  {
   "cell_type": "code",
   "execution_count": 14,
   "metadata": {},
   "outputs": [
    {
     "name": "stdout",
     "output_type": "stream",
     "text": [
      "0.6791219926170651\n",
      "0.6791219926170651\n",
      "0.6791219926170651\n"
     ]
    }
   ],
   "source": [
    "# Retreive test set AUC\n",
    "# Now let's evaluate the model performance on a test set\n",
    "\n",
    "print (best_dl_grid_10.auc(valid = True))\n",
    "print (best_dl_grid_20.auc(valid = True))\n",
    "print (best_dl_grid_50.auc(valid = True))"
   ]
  },
  {
   "cell_type": "markdown",
   "metadata": {},
   "source": [
    "Since the auc in different hidden layers have same auc and all other params being same, let save with less hidden layer."
   ]
  },
  {
   "cell_type": "code",
   "execution_count": 15,
   "metadata": {},
   "outputs": [],
   "source": [
    "# save the hyper parameters as json file for later use\n",
    "params = best_dl_grid_10.actual_params\n",
    "with open(\"c://repository/h2o_project/grid_hyperparams_dl.json\", 'w') as json_file:\n",
    "    json_file.write(json.dumps(params, indent=4))"
   ]
  },
  {
   "cell_type": "code",
   "execution_count": 16,
   "metadata": {},
   "outputs": [],
   "source": [
    "# save the model\n",
    "model_path_glm = h2o.save_model(model=best_glm1, path=\"c://repository/h2o_project/best_glm\", force=True)\n",
    "model_path_gbm = h2o.save_model(model=best_gbm1, path=\"c://repository/h2o_project/best_gbm\", force=True)\n",
    "model_path_dl = h2o.save_model(model=best_dl_grid_10, path=\"c://repository/h2o_project/best_dl\", force=True)"
   ]
  },
  {
   "cell_type": "code",
   "execution_count": 17,
   "metadata": {},
   "outputs": [],
   "source": [
    "# load the model\n",
    "#saved_model = h2o.load_model(model_path)"
   ]
  },
  {
   "cell_type": "markdown",
   "metadata": {},
   "source": [
    "## 4. Ensemble all the models"
   ]
  },
  {
   "cell_type": "code",
   "execution_count": 18,
   "metadata": {},
   "outputs": [
    {
     "name": "stdout",
     "output_type": "stream",
     "text": [
      "stackedensemble Model Build progress: |███████████████████████████████████| 100%\n"
     ]
    }
   ],
   "source": [
    "ensemble = H2OStackedEnsembleEstimator(model_id=\"ensemble_1\",\n",
    "                                      base_models=[best_gbm1, \n",
    "                                                   best_glm1, \n",
    "                                                   best_dl_grid_10])\n",
    "ensemble.train(x = predictors, \n",
    "               y=target,\n",
    "               training_frame = train,\n",
    "               validation_frame = valid)"
   ]
  },
  {
   "cell_type": "markdown",
   "metadata": {},
   "source": [
    "## 5. Evaluate the ensemble performance on the test set"
   ]
  },
  {
   "cell_type": "code",
   "execution_count": 19,
   "metadata": {},
   "outputs": [
    {
     "data": {
      "text/plain": [
       "0.7270862154943917"
      ]
     },
     "execution_count": 19,
     "metadata": {},
     "output_type": "execute_result"
    }
   ],
   "source": [
    "ensemble.auc(valid = True)"
   ]
  },
  {
   "cell_type": "markdown",
   "metadata": {},
   "source": [
    "## 6. Find and compare the best base learner test AUC and the ensemble test AUC."
   ]
  },
  {
   "cell_type": "code",
   "execution_count": 20,
   "metadata": {},
   "outputs": [
    {
     "name": "stdout",
     "output_type": "stream",
     "text": [
      "glm best base model auc:  0.6578248648028588 \n",
      "gbm best base model auc:  0.7270300017365988 \n",
      "dl best base model auc:  0.6791219926170651 \n",
      "ensemble test auc:  0.7270862154943917\n"
     ]
    }
   ],
   "source": [
    "print(\"glm best base model auc: \", best_glm1.auc(valid=True),\"\\n\"\n",
    "      \"gbm best base model auc: \", best_gbm1.auc(valid=True),\"\\n\"\n",
    "      \"dl best base model auc: \", best_dl_grid_10.auc(valid=True),\"\\n\"\n",
    "      \"ensemble test auc: \", ensemble.auc(valid=True))"
   ]
  },
  {
   "cell_type": "code",
   "execution_count": null,
   "metadata": {},
   "outputs": [],
   "source": []
  },
  {
   "cell_type": "code",
   "execution_count": null,
   "metadata": {},
   "outputs": [],
   "source": []
  }
 ],
 "metadata": {
  "kernelspec": {
   "display_name": "Python 3",
   "language": "python",
   "name": "python3"
  },
  "language_info": {
   "codemirror_mode": {
    "name": "ipython",
    "version": 3
   },
   "file_extension": ".py",
   "mimetype": "text/x-python",
   "name": "python",
   "nbconvert_exporter": "python",
   "pygments_lexer": "ipython3",
   "version": "3.7.1"
  }
 },
 "nbformat": 4,
 "nbformat_minor": 2
}
